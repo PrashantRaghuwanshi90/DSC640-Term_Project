{
 "cells": [
  {
   "cell_type": "markdown",
   "id": "66e3ca43",
   "metadata": {},
   "source": [
    "##### 5.2 Exercises: heat maps, spatial charts, and contour charts\n",
    "##### Name: Prashant Raghuwanshi\n",
    "##### Date: 02/14/2022\n",
    "##### Course: DSC640-T301 Data Presentation & Visualization (2223-1)"
   ]
  },
  {
   "cell_type": "markdown",
   "id": "83f8627b",
   "metadata": {},
   "source": [
    "##### Import common Data preparation & Visualization libraries:\n",
    "import numpy as np\n",
    "import matplotlib.pyplot as plt\n",
    "import pandas as pd\n",
    "import squarify\n",
    "import seaborn as sns\n",
    "import plotly.express as px"
   ]
  },
  {
   "cell_type": "code",
   "execution_count": 16,
   "id": "2e3d06c4",
   "metadata": {},
   "outputs": [],
   "source": [
    "##### Import common Data preparation & visualization libraries:\n",
    "import numpy as np\n",
    "import matplotlib.pyplot as plt\n",
    "import pandas as pd\n",
    "import squarify\n",
    "import seaborn as sns\n",
    "import plotly.express as px\n",
    "import matplotlib\n",
    "from matplotlib.colors import LogNorm\n",
    "import plotly.graph_objects as go"
   ]
  },
  {
   "cell_type": "code",
   "execution_count": 2,
   "id": "e0110e33",
   "metadata": {},
   "outputs": [
    {
     "data": {
      "text/html": [
       "<div>\n",
       "<style scoped>\n",
       "    .dataframe tbody tr th:only-of-type {\n",
       "        vertical-align: middle;\n",
       "    }\n",
       "\n",
       "    .dataframe tbody tr th {\n",
       "        vertical-align: top;\n",
       "    }\n",
       "\n",
       "    .dataframe thead th {\n",
       "        text-align: right;\n",
       "    }\n",
       "</style>\n",
       "<table border=\"1\" class=\"dataframe\">\n",
       "  <thead>\n",
       "    <tr style=\"text-align: right;\">\n",
       "      <th></th>\n",
       "      <th>Address</th>\n",
       "      <th>City</th>\n",
       "      <th>State</th>\n",
       "      <th>Zip Code</th>\n",
       "      <th>Latitude</th>\n",
       "      <th>Longitude</th>\n",
       "    </tr>\n",
       "  </thead>\n",
       "  <tbody>\n",
       "    <tr>\n",
       "      <th>0</th>\n",
       "      <td>1205 N. Memorial Parkway</td>\n",
       "      <td>Huntsville</td>\n",
       "      <td>Alabama</td>\n",
       "      <td>35801-5930</td>\n",
       "      <td>34.743095</td>\n",
       "      <td>-86.600955</td>\n",
       "    </tr>\n",
       "    <tr>\n",
       "      <th>1</th>\n",
       "      <td>3650 Galleria Circle</td>\n",
       "      <td>Hoover</td>\n",
       "      <td>Alabama</td>\n",
       "      <td>35244-2346</td>\n",
       "      <td>33.377649</td>\n",
       "      <td>-86.812420</td>\n",
       "    </tr>\n",
       "    <tr>\n",
       "      <th>2</th>\n",
       "      <td>8251 Eastchase Parkway</td>\n",
       "      <td>Montgomery</td>\n",
       "      <td>Alabama</td>\n",
       "      <td>36117</td>\n",
       "      <td>32.363889</td>\n",
       "      <td>-86.150884</td>\n",
       "    </tr>\n",
       "    <tr>\n",
       "      <th>3</th>\n",
       "      <td>5225 Commercial Boulevard</td>\n",
       "      <td>Juneau</td>\n",
       "      <td>Alaska</td>\n",
       "      <td>99801-7210</td>\n",
       "      <td>58.359200</td>\n",
       "      <td>-134.483000</td>\n",
       "    </tr>\n",
       "    <tr>\n",
       "      <th>4</th>\n",
       "      <td>330 West Dimond Blvd</td>\n",
       "      <td>Anchorage</td>\n",
       "      <td>Alaska</td>\n",
       "      <td>99515-1950</td>\n",
       "      <td>61.143266</td>\n",
       "      <td>-149.884217</td>\n",
       "    </tr>\n",
       "  </tbody>\n",
       "</table>\n",
       "</div>"
      ],
      "text/plain": [
       "                     Address        City    State    Zip Code   Latitude  \\\n",
       "0   1205 N. Memorial Parkway  Huntsville  Alabama  35801-5930  34.743095   \n",
       "1       3650 Galleria Circle      Hoover  Alabama  35244-2346  33.377649   \n",
       "2     8251 Eastchase Parkway  Montgomery  Alabama       36117  32.363889   \n",
       "3  5225 Commercial Boulevard      Juneau   Alaska  99801-7210  58.359200   \n",
       "4       330 West Dimond Blvd   Anchorage   Alaska  99515-1950  61.143266   \n",
       "\n",
       "    Longitude  \n",
       "0  -86.600955  \n",
       "1  -86.812420  \n",
       "2  -86.150884  \n",
       "3 -134.483000  \n",
       "4 -149.884217  "
      ]
     },
     "execution_count": 2,
     "metadata": {},
     "output_type": "execute_result"
    }
   ],
   "source": [
    "##### read source file costcos-geocoded into dataframe\n",
    "costcos_df = pd.read_csv('C:/Users/21313711/Documents/DSC640/ex5-2/ex5-2/costcos-geocoded.csv')\n",
    "##### display firt 5 records\n",
    "costcos_df.head(5)"
   ]
  },
  {
   "cell_type": "code",
   "execution_count": 3,
   "id": "388de567",
   "metadata": {},
   "outputs": [
    {
     "data": {
      "text/html": [
       "<div>\n",
       "<style scoped>\n",
       "    .dataframe tbody tr th:only-of-type {\n",
       "        vertical-align: middle;\n",
       "    }\n",
       "\n",
       "    .dataframe tbody tr th {\n",
       "        vertical-align: top;\n",
       "    }\n",
       "\n",
       "    .dataframe thead th {\n",
       "        text-align: right;\n",
       "    }\n",
       "</style>\n",
       "<table border=\"1\" class=\"dataframe\">\n",
       "  <thead>\n",
       "    <tr style=\"text-align: right;\">\n",
       "      <th></th>\n",
       "      <th>Name</th>\n",
       "      <th>G</th>\n",
       "      <th>MIN</th>\n",
       "      <th>PTS</th>\n",
       "      <th>FGM</th>\n",
       "      <th>FGA</th>\n",
       "      <th>FGP</th>\n",
       "      <th>FTM</th>\n",
       "      <th>FTA</th>\n",
       "      <th>FTP</th>\n",
       "      <th>...</th>\n",
       "      <th>3PA</th>\n",
       "      <th>3PP</th>\n",
       "      <th>ORB</th>\n",
       "      <th>DRB</th>\n",
       "      <th>TRB</th>\n",
       "      <th>AST</th>\n",
       "      <th>STL</th>\n",
       "      <th>BLK</th>\n",
       "      <th>TO</th>\n",
       "      <th>PF</th>\n",
       "    </tr>\n",
       "  </thead>\n",
       "  <tbody>\n",
       "    <tr>\n",
       "      <th>0</th>\n",
       "      <td>Dwyane Wade</td>\n",
       "      <td>79</td>\n",
       "      <td>38.6</td>\n",
       "      <td>30.2</td>\n",
       "      <td>10.8</td>\n",
       "      <td>22.0</td>\n",
       "      <td>0.491</td>\n",
       "      <td>7.5</td>\n",
       "      <td>9.8</td>\n",
       "      <td>0.765</td>\n",
       "      <td>...</td>\n",
       "      <td>3.5</td>\n",
       "      <td>0.317</td>\n",
       "      <td>1.1</td>\n",
       "      <td>3.9</td>\n",
       "      <td>5.0</td>\n",
       "      <td>7.5</td>\n",
       "      <td>2.2</td>\n",
       "      <td>1.3</td>\n",
       "      <td>3.4</td>\n",
       "      <td>2.3</td>\n",
       "    </tr>\n",
       "    <tr>\n",
       "      <th>1</th>\n",
       "      <td>LeBron James</td>\n",
       "      <td>81</td>\n",
       "      <td>37.7</td>\n",
       "      <td>28.4</td>\n",
       "      <td>9.7</td>\n",
       "      <td>19.9</td>\n",
       "      <td>0.489</td>\n",
       "      <td>7.3</td>\n",
       "      <td>9.4</td>\n",
       "      <td>0.780</td>\n",
       "      <td>...</td>\n",
       "      <td>4.7</td>\n",
       "      <td>0.344</td>\n",
       "      <td>1.3</td>\n",
       "      <td>6.3</td>\n",
       "      <td>7.6</td>\n",
       "      <td>7.2</td>\n",
       "      <td>1.7</td>\n",
       "      <td>1.1</td>\n",
       "      <td>3.0</td>\n",
       "      <td>1.7</td>\n",
       "    </tr>\n",
       "    <tr>\n",
       "      <th>2</th>\n",
       "      <td>Kobe Bryant</td>\n",
       "      <td>82</td>\n",
       "      <td>36.2</td>\n",
       "      <td>26.8</td>\n",
       "      <td>9.8</td>\n",
       "      <td>20.9</td>\n",
       "      <td>0.467</td>\n",
       "      <td>5.9</td>\n",
       "      <td>6.9</td>\n",
       "      <td>0.856</td>\n",
       "      <td>...</td>\n",
       "      <td>4.1</td>\n",
       "      <td>0.351</td>\n",
       "      <td>1.1</td>\n",
       "      <td>4.1</td>\n",
       "      <td>5.2</td>\n",
       "      <td>4.9</td>\n",
       "      <td>1.5</td>\n",
       "      <td>0.5</td>\n",
       "      <td>2.6</td>\n",
       "      <td>2.3</td>\n",
       "    </tr>\n",
       "    <tr>\n",
       "      <th>3</th>\n",
       "      <td>Dirk Nowitzki</td>\n",
       "      <td>81</td>\n",
       "      <td>37.7</td>\n",
       "      <td>25.9</td>\n",
       "      <td>9.6</td>\n",
       "      <td>20.0</td>\n",
       "      <td>0.479</td>\n",
       "      <td>6.0</td>\n",
       "      <td>6.7</td>\n",
       "      <td>0.890</td>\n",
       "      <td>...</td>\n",
       "      <td>2.1</td>\n",
       "      <td>0.359</td>\n",
       "      <td>1.1</td>\n",
       "      <td>7.3</td>\n",
       "      <td>8.4</td>\n",
       "      <td>2.4</td>\n",
       "      <td>0.8</td>\n",
       "      <td>0.8</td>\n",
       "      <td>1.9</td>\n",
       "      <td>2.2</td>\n",
       "    </tr>\n",
       "    <tr>\n",
       "      <th>4</th>\n",
       "      <td>Danny Granger</td>\n",
       "      <td>67</td>\n",
       "      <td>36.2</td>\n",
       "      <td>25.8</td>\n",
       "      <td>8.5</td>\n",
       "      <td>19.1</td>\n",
       "      <td>0.447</td>\n",
       "      <td>6.0</td>\n",
       "      <td>6.9</td>\n",
       "      <td>0.878</td>\n",
       "      <td>...</td>\n",
       "      <td>6.7</td>\n",
       "      <td>0.404</td>\n",
       "      <td>0.7</td>\n",
       "      <td>4.4</td>\n",
       "      <td>5.1</td>\n",
       "      <td>2.7</td>\n",
       "      <td>1.0</td>\n",
       "      <td>1.4</td>\n",
       "      <td>2.5</td>\n",
       "      <td>3.1</td>\n",
       "    </tr>\n",
       "  </tbody>\n",
       "</table>\n",
       "<p>5 rows × 21 columns</p>\n",
       "</div>"
      ],
      "text/plain": [
       "           Name     G   MIN   PTS   FGM   FGA    FGP  FTM  FTA    FTP  ...  \\\n",
       "0    Dwyane Wade   79  38.6  30.2  10.8  22.0  0.491  7.5  9.8  0.765  ...   \n",
       "1   LeBron James   81  37.7  28.4   9.7  19.9  0.489  7.3  9.4  0.780  ...   \n",
       "2    Kobe Bryant   82  36.2  26.8   9.8  20.9  0.467  5.9  6.9  0.856  ...   \n",
       "3  Dirk Nowitzki   81  37.7  25.9   9.6  20.0  0.479  6.0  6.7  0.890  ...   \n",
       "4  Danny Granger   67  36.2  25.8   8.5  19.1  0.447  6.0  6.9  0.878  ...   \n",
       "\n",
       "   3PA    3PP  ORB  DRB  TRB  AST  STL  BLK   TO   PF  \n",
       "0  3.5  0.317  1.1  3.9  5.0  7.5  2.2  1.3  3.4  2.3  \n",
       "1  4.7  0.344  1.3  6.3  7.6  7.2  1.7  1.1  3.0  1.7  \n",
       "2  4.1  0.351  1.1  4.1  5.2  4.9  1.5  0.5  2.6  2.3  \n",
       "3  2.1  0.359  1.1  7.3  8.4  2.4  0.8  0.8  1.9  2.2  \n",
       "4  6.7  0.404  0.7  4.4  5.1  2.7  1.0  1.4  2.5  3.1  \n",
       "\n",
       "[5 rows x 21 columns]"
      ]
     },
     "execution_count": 3,
     "metadata": {},
     "output_type": "execute_result"
    }
   ],
   "source": [
    "##### read source file ppg2008 into dataframe\n",
    "ppg2008_df = pd.read_csv('C:/Users/21313711/Documents/DSC640/ex5-2/ex5-2/ppg2008.csv')\n",
    "##### display firt 5 records\n",
    "ppg2008_df.head(5)"
   ]
  },
  {
   "cell_type": "code",
   "execution_count": 4,
   "id": "abadb5b1",
   "metadata": {},
   "outputs": [],
   "source": [
    "# setting name as index column\n",
    "ppg2008_df.set_index(\"Name  \", inplace = True)"
   ]
  },
  {
   "cell_type": "code",
   "execution_count": 5,
   "id": "bcada48e",
   "metadata": {},
   "outputs": [],
   "source": [
    "ppg_mat = ppg2008_df.to_numpy()"
   ]
  },
  {
   "cell_type": "code",
   "execution_count": 6,
   "id": "c897a74e",
   "metadata": {},
   "outputs": [
    {
     "data": {
      "image/png": "[encoded data removed]",
      "text/plain": [
       "<Figure size 1080x1080 with 1 Axes>"
      ]
     },
     "metadata": {
      "needs_background": "light"
     },
     "output_type": "display_data"
    }
   ],
   "source": [
    "# Show all ticks and label them with the respective list entries\n",
    "fig, ax = plt.subplots(1,1,figsize=(15,15))\n",
    "im = ax.imshow(ppg_mat, norm=LogNorm(vmin=1, vmax=100), aspect='auto')\n",
    "xd = ['G', 'MIN', 'PTS', 'FGM', 'FGA', 'FGP', 'FTM', 'FTA', 'FTP', '3PM',\n",
    "       '3PA', '3PP', 'ORB', 'DRB', 'TRB', 'AST', 'STL', 'BLK', 'TO', 'PF']\n",
    "yd = ['Dwyane Wade ', 'LeBron James ', 'Kobe Bryant ', 'Dirk Nowitzki ',\n",
    "       'Danny Granger ', 'Kevin Durant ', 'Kevin Martin ', 'Al Jefferson ',\n",
    "       'Chris Paul ', 'Carmelo Anthony ', 'Chris Bosh ', 'Brandon Roy ',\n",
    "       'Antawn Jamison ', 'Tony Parker ', 'Amare Stoudemire ', 'Joe Johnson ',\n",
    "       'Devin Harris ', 'Michael Redd ', 'David West ', 'Zachary Randolph ',\n",
    "       'Caron Butler ', 'Vince Carter ', 'Stephen Jackson ', 'Ben Gordon ',\n",
    "       'Dwight Howard ', 'Paul Pierce ', 'Al Harrington ', 'Jamal Crawford ',\n",
    "       'Yao Ming ', 'Richard Jefferson ', 'Jason Terry ', 'Deron Williams ',\n",
    "       'Tim Duncan ', 'Monta Ellis ', 'Rudy Gay ', 'Pau Gasol ',\n",
    "       'Andre Iguodala ', 'Corey Maggette ', 'O.J. Mayo ', 'John Salmons ',\n",
    "       'Richard Hamilton ', 'Ray Allen ', 'LaMarcus Aldridge ', 'Josh Howard ',\n",
    "       'Maurice Williams ', 'Shaquille O neal ', 'Rashard Lewis',\n",
    "       'Chauncey Billups ', 'Allen Iverson ', 'Nate Robinson ']\n",
    "ax.set_xticks(np.arange(len(xd)))\n",
    "ax.set_yticks(np.arange(len(yd)))\n",
    "ax.set_xticklabels(labels=xd)\n",
    "ax.set_yticklabels(labels=yd)\n",
    "# Rotate the tick labels and set their alignment.\n",
    "plt.setp(ax.get_xticklabels(), rotation=45, ha=\"right\",\n",
    "         rotation_mode=\"anchor\")\n",
    "ax.set_title(\"PPG DRUG TEST RESULT\")\n",
    "fig.tight_layout()\n",
    "plt.show()"
   ]
  },
  {
   "cell_type": "code",
   "execution_count": 22,
   "id": "869e165c",
   "metadata": {},
   "outputs": [
    {
     "data": {
      "image/png": "[encoded data removed]",
      "text/plain": [
       "<Figure size 432x288 with 1 Axes>"
      ]
     },
     "metadata": {
      "needs_background": "light"
     },
     "output_type": "display_data"
    }
   ],
   "source": [
    "#contour map\n",
    "x = ppg2008_df.FGP\n",
    "y = ppg2008_df.FTP\n",
    "x1,y1 = np.meshgrid(x,y)\n",
    "z = np.sin(x1) * np.cos(y1)\n",
    "cs = plt.contour(x1,y1,z)\n",
    "plt.xticks([.35,.4,.45,.5,.55,.6,.65])\n",
    "plt.yticks([.55,.6,.65,.7,.75,.8,.85,.9,.95])\n",
    "plt.yticks\n",
    "plt.xlabel(\"Field Goal Precentage\")\n",
    "plt.ylabel(\"Free Throw Precentage\")\n",
    "plt.title(\"Contour Plot for FPG and FTP\")\n",
    "plt.show()"
   ]
  },
  {
   "cell_type": "code",
   "execution_count": 10,
   "id": "20da69c3",
   "metadata": {},
   "outputs": [],
   "source": [
    "#### Saptial Map"
   ]
  },
  {
   "cell_type": "code",
   "execution_count": 15,
   "id": "09dcaa38",
   "metadata": {},
   "outputs": [
    {
     "data": {
      "application/vnd.plotly.v1+json": {
       "config": {
        "plotlyServerURL": "https://plot.ly"
       },
       "data": [
        {
         "lat": [
          34.7430949,
          33.377649,
          32.363889,
          58.3592,
          61.143266,
          61.210815,
          34.548993,
          32.3262177,
          32.2522189,
          33.643277,
          33.296095,
          33.347289,
          33.6241344,
          33.376244,
          33.293696,
          33.3886808,
          33.670943,
          33.659688,
          33.49179,
          33.5206919,
          33.473335,
          33.467156,
          33.600961,
          32.7789832,
          40.586449,
          39.7214025,
          38.4677597,
          38.597139,
          38.6699409,
          38.588195,
          38.78061,
          38.645206,
          38.6903,
          40.7919385,
          38.4204562,
          37.7003612,
          37.3019943,
          37.784874,
          38.018791,
          37.3886293,
          37.253214,
          37.309657,
          36.985104,
          37.357021,
          38.087238,
          37.898774,
          38.133192,
          38.215406,
          37.7181741,
          37.702588,
          37.667516,
          37.5031232,
          37.78259,
          38.009119,
          37.561366,
          37.770488,
          37.372027,
          37.6422308,
          37.6654356,
          37.420676,
          36.6170705,
          36.703939,
          36.80989,
          36.792187,
          34.66129,
          34.936541,
          35.251917,
          36.292806,
          34.42789,
          34.2251071,
          33.87567,
          33.8899732,
          33.773511,
          33.862449,
          33.7282,
          33.699689,
          33.703448,
          33.5569565,
          33.469498,
          33.6570006,
          33.935555,
          33.696337,
          34.068044,
          34.5155574,
          32.8152064,
          33.7996392,
          32.987241,
          32.712739,
          33.1879309,
          32.840642,
          32.93649,
          33.1201381,
          32.773971,
          32.6089545,
          32.637276,
          34.089515,
          34.112139,
          34.083039,
          33.994075,
          34.078576,
          34.014463,
          34.131982,
          34.185739,
          34.181613,
          34.4027129,
          34.152307,
          34.230765,
          34.218644,
          33.8043173,
          33.850463,
          33.919958,
          34.032917,
          33.932029,
          33.800813,
          33.943257,
          33.992576,
          33.898805,
          34.1285583,
          38.3506756,
          37.519131,
          37.7510679,
          37.008207,
          38.3527259,
          37.6163221,
          37.478656,
          36.839426,
          35.297271,
          35.384837,
          33.567618,
          33.521227,
          34.137557,
          33.704896,
          32.8234958,
          32.816251,
          34.2725894,
          33.8031834,
          33.918618,
          33.9947586,
          39.6433872,
          38.892736,
          39.5580896,
          39.561203,
          39.638285,
          39.644445,
          39.862237,
          39.9576167,
          39.991358,
          39.690471,
          39.790074,
          38.9037505,
          41.0919457,
          41.4422731,
          41.542672,
          41.249661,
          41.9936047,
          39.677736,
          26.411955,
          26.22026,
          26.489631,
          26.544447,
          27.921491,
          26.5872905,
          26.6810314,
          26.8083519,
          26.0969039,
          25.655668,
          25.909564,
          25.774109,
          26.273566,
          26.009617,
          25.923451,
          28.404252,
          28.59907,
          28.6618672,
          30.4606461,
          30.252071,
          27.9604528,
          34.9326477,
          34.0620378,
          33.8816153,
          33.927816,
          33.572052,
          34.0092178,
          33.947764,
          34.090513,
          33.8709805,
          19.687344,
          21.282117,
          21.4188931,
          21.9665355,
          20.887082,
          21.3272958,
          21.3184739,
          47.7080223,
          43.585487,
          43.615175,
          42.591998,
          42.905739,
          42.014665,
          41.7600708,
          41.9297729,
          41.845569,
          41.6011911,
          42.0565401,
          42.1788808,
          41.9396832,
          42.187135,
          41.7443388,
          41.7265993,
          41.9073026,
          41.9091302,
          42.0831646,
          42.240048,
          42.1090138,
          41.4738435,
          39.916735,
          39.913779,
          41.562811,
          38.95885,
          38.906906,
          38.3163673,
          38.9731445,
          39.4018344,
          39.358195,
          39.15582,
          39.186369,
          39.2035401,
          39.155646,
          37.228312,
          38.6645584,
          42.395066,
          42.136598,
          42.230996,
          37.226693,
          42.13216,
          42.4017251,
          42.910564,
          42.875818,
          42.7070854,
          42.6295851,
          42.606916,
          42.432885,
          42.3813419,
          42.5044786,
          42.5161919,
          42.4959314,
          42.534006,
          45.1985438,
          44.9676254,
          45.09298,
          44.8603208,
          45.029375,
          44.7481179,
          39.0682148,
          39.0372034,
          38.797262,
          38.506798,
          38.597951,
          48.174177,
          46.89293,
          45.71334,
          46.616615,
          45.7550163,
          41.265224,
          39.1123484,
          39.503102,
          39.579204,
          36.1633476,
          36.278946,
          36.1721288,
          36.06985,
          42.7023,
          40.5317305,
          40.5644881,
          40.0547573,
          39.9505868,
          39.70721,
          40.8096853,
          40.906896,
          40.4194098,
          40.876239,
          40.8872413,
          40.6931,
          40.830625,
          35.068225,
          35.19547,
          35.136386,
          40.862057,
          40.757604,
          40.773266,
          40.8067522,
          40.743347,
          40.6307824,
          40.6554813,
          40.7673216,
          41.107253,
          40.896403,
          40.9749617,
          40.57268,
          40.7333304,
          40.997205,
          40.7953918,
          34.2471728,
          35.162075,
          35.130096,
          36.028911,
          35.818255,
          36.058064,
          36.064731,
          39.2956999,
          39.288172,
          41.5241698,
          41.6773358,
          40.150574,
          41.3130793,
          41.461881,
          44.057267,
          42.3687759,
          44.089117,
          44.6391268,
          44.918976,
          45.559288,
          45.4367116,
          45.535709,
          45.332949,
          45.429738,
          45.509085,
          43.2590258,
          46.1472442,
          40.2391985,
          40.091369,
          40.052357,
          40.3098913,
          40.691215,
          40.4067922,
          40.4581284,
          34.8360858,
          33.705698,
          32.7953856,
          34.9370256,
          35.0465639,
          35.19204,
          36.1392669,
          35.963436,
          30.3968644,
          29.576287,
          29.598391,
          29.9536092,
          29.787755,
          29.7327829,
          32.6775654,
          32.9419217,
          32.6846619,
          33.023989,
          33.0441379,
          32.9952011,
          31.783497,
          29.611904,
          32.620946,
          32.9087304,
          37.122515,
          41.197413,
          40.6903769,
          40.730657,
          40.2822443,
          40.5506675,
          40.389719,
          40.889379,
          40.6577119,
          44.5034,
          37.106044,
          36.851561,
          37.438778,
          37.642294,
          38.428597,
          39.157827,
          38.8624735,
          38.642245,
          38.739883,
          38.849315,
          39.115223,
          39.023821,
          38.8951069,
          38.783572,
          38.293479,
          47.681717,
          46.4229672,
          46.225654,
          47.658358,
          47.724927,
          46.562354,
          47.401812,
          45.684942,
          47.05934,
          46.996336,
          47.238297,
          47.224683,
          47.656571,
          48.0770692,
          48.0770692,
          47.156472,
          48.147561,
          48.453882,
          48.7974507,
          47.903556,
          47.445595,
          47.5649224,
          47.77567,
          47.779015,
          47.82549,
          47.5512165,
          47.2869797,
          45.6212994,
          47.3577482,
          47.354838,
          43.100195,
          43.3246907
         ],
         "locationmode": "USA-states",
         "lon": [
          -86.6009553,
          -86.81242,
          -86.150884,
          -134.483,
          -149.884217,
          -149.804337,
          -112.3954274,
          -111.0491606,
          -110.859554,
          -112.233474,
          -111.745647,
          -111.961862,
          -111.9019118,
          -111.840765,
          -111.899509,
          -111.6675437,
          -112.028124,
          -112.115841,
          -112.128379,
          -112.095189,
          -111.985531,
          -112.274404,
          -111.983793,
          -117.1269067,
          -122.345675,
          -121.8096578,
          -121.4154069,
          -121.452409,
          -121.7259571,
          -121.263769,
          -121.267423,
          -121.109598,
          -121.29859,
          -124.1825438,
          -122.7134804,
          -121.0671386,
          -120.4940012,
          -121.260014,
          -121.292757,
          -121.8829132,
          -121.879999,
          -121.851571,
          -122.033615,
          -121.938843,
          -122.551076,
          -122.320125,
          -122.213745,
          -122.144911,
          -122.1809332,
          -121.812265,
          -122.10278,
          -121.9748814,
          -121.972853,
          -121.837904,
          -122.275144,
          -122.411106,
          -121.994779,
          -122.4010744,
          -122.4490857,
          -122.095061,
          -121.8474767,
          -121.668608,
          -119.874081,
          -119.714342,
          -118.151429,
          -120.42084,
          -120.691013,
          -119.306638,
          -119.874572,
          -119.148567,
          -117.74385,
          -117.5208947,
          -117.940271,
          -117.92211,
          -117.796294,
          -117.822618,
          -117.931978,
          -117.6788758,
          -117.677697,
          -117.7397337,
          -117.276579,
          -117.339182,
          -117.263077,
          -117.3196428,
          -115.5700028,
          -116.3819564,
          -117.077675,
          -117.11613,
          -117.2767568,
          -116.987356,
          -117.033125,
          -117.3165503,
          -117.024305,
          -117.0809526,
          -117.022199,
          -118.148531,
          -117.82633,
          -117.690661,
          -117.922,
          -117.5482714,
          -117.741815,
          -117.925681,
          -118.324045,
          -118.46401,
          -118.4550432,
          -118.797131,
          -118.551069,
          -118.596119,
          -118.166725,
          -118.136453,
          -118.102519,
          -118.097463,
          -117.969786,
          -118.34993,
          -118.333856,
          -118.446821,
          -118.372745,
          -118.2636796,
          -121.9817708,
          -120.888552,
          -121.475091,
          -121.556447,
          -122.717092,
          -122.0889509,
          -122.216527,
          -119.78774,
          -119.058275,
          -119.048452,
          -117.711571,
          -117.154362,
          -117.442672,
          -116.272801,
          -117.2282851,
          -117.153631,
          -118.4276271,
          -118.038976,
          -118.342576,
          -118.1430614,
          -106.8885487,
          -104.71771,
          -104.7758852,
          -104.874753,
          -105.082856,
          -105.006451,
          -105.0661949,
          -105.1699298,
          -104.983163,
          -104.86808,
          -105.082637,
          -104.8172136,
          -73.4515808,
          -73.4051279,
          -72.9686675,
          -73.023977,
          -72.5754399,
          -75.64737,
          -80.1008839,
          -81.77492,
          -81.785933,
          -81.8742089,
          -82.330936,
          -80.0726927,
          -80.2195563,
          -80.0879667,
          -80.2509582,
          -80.412069,
          -80.156203,
          -80.330536,
          -80.148255,
          -80.360331,
          -80.298706,
          -81.40671,
          -81.30024,
          -81.4176945,
          -84.2124709,
          -81.533776,
          -82.7275752,
          -85.2547988,
          -83.9943156,
          -84.4694359,
          -84.352462,
          -84.333989,
          -84.5686483,
          -84.143039,
          -84.277902,
          -84.3350283,
          -156.017457,
          -157.7119219,
          -158.0063848,
          -159.3799149,
          -156.451364,
          -158.0881083,
          -157.870711,
          -116.7819023,
          -116.276686,
          -116.592784,
          -114.4656395,
          -112.468931,
          -87.7815541,
          -87.7418497,
          -87.6770447,
          -87.964888,
          -87.8618256,
          -88.0449252,
          -88.3387302,
          -88.1323182,
          -88.093412,
          -88.2058422,
          -88.0325566,
          -88.3400191,
          -87.8367543,
          -87.9332458,
          -87.9057161,
          -87.8214507,
          -87.3218679,
          -86.226227,
          -86.061793,
          -93.804976,
          -94.733002,
          -94.670999,
          -85.5728641,
          -76.8160858,
          -77.4075364,
          -76.444565,
          -76.730744,
          -76.793645,
          -76.5939428,
          -77.214124,
          -77.3903001,
          -76.8747015,
          -71.265264,
          -71.066458,
          -71.17497,
          -77.401371,
          -72.620485,
          -71.0695264,
          -85.542713,
          -85.76385,
          -83.2963467,
          -82.98077,
          -83.293322,
          -83.430471,
          -83.332026,
          -83.7594455,
          -83.117129,
          -82.9371897,
          -83.444799,
          -93.3502188,
          -93.3495534,
          -93.424382,
          -93.4358767,
          -93.039964,
          -93.2934839,
          -94.5815625,
          -94.3551426,
          -90.607339,
          -90.3408851,
          -90.506914,
          -114.29897,
          -114.037358,
          -111.070653,
          -112.0049737,
          -108.5727142,
          -96.10534,
          -119.8451288,
          -119.785095,
          -119.738792,
          -115.3318905,
          -115.209445,
          -115.1608236,
          -115.037166,
          -71.443126,
          -74.3766237,
          -74.5553081,
          -74.1563178,
          -74.8761132,
          -74.287661,
          -74.381266,
          -74.569445,
          -74.1705136,
          -74.038818,
          -74.2541309,
          -74.2873,
          -74.1366964,
          -106.530385,
          -106.66139,
          -106.614209,
          -73.130236,
          -73.420634,
          -73.050016,
          -73.2865925,
          -73.601117,
          -73.7398576,
          -74.0090742,
          -73.9375771,
          -74.025274,
          -73.7938571,
          -73.8612905,
          -74.168663,
          -73.8635717,
          -73.661561,
          -73.9318516,
          -77.8738996,
          -80.883958,
          -80.704742,
          -78.914527,
          -78.622315,
          -79.883838,
          -80.317952,
          -84.3032,
          -84.4510214,
          -81.4467262,
          -83.6241301,
          -82.976965,
          -81.8162777,
          -82.012682,
          -121.267616,
          -122.858378,
          -123.06635,
          -123.065814,
          -122.995309,
          -122.523747,
          -122.7564796,
          -122.9355,
          -122.764093,
          -122.571376,
          -122.841919,
          -123.3513746,
          -123.9174036,
          -75.2351214,
          -75.385931,
          -76.256924,
          -76.7996506,
          -80.107991,
          -79.9195722,
          -80.1671087,
          -82.311008,
          -78.915906,
          -80.0369654,
          -81.9906978,
          -89.7972209,
          -89.794989,
          -86.885891,
          -86.818149,
          -97.7456423,
          -98.597156,
          -98.277915,
          -95.5468109,
          -95.529263,
          -95.4389565,
          -97.4087829,
          -97.1121332,
          -97.1127486,
          -96.831701,
          -96.699179,
          -96.9648545,
          -106.410297,
          -98.474805,
          -96.910279,
          -96.4454985,
          -113.523381,
          -111.9793725,
          -111.9541263,
          -111.90294,
          -111.6798494,
          -111.8934445,
          -111.8229955,
          -111.895108,
          -111.889873,
          -73.173988,
          -76.496559,
          -76.199681,
          -77.587539,
          -77.561159,
          -78.85613,
          -78.157929,
          -77.0567423,
          -77.294447,
          -77.197301,
          -77.371784,
          -77.533198,
          -77.401854,
          -77.4430209,
          -77.5164269,
          -77.515701,
          -122.182086,
          -117.0442722,
          -119.235246,
          -117.332852,
          -117.411489,
          -120.499306,
          -120.280459,
          -122.604718,
          -122.760723,
          -122.916699,
          -122.373955,
          -122.469182,
          -122.680673,
          -123.1254206,
          -123.1254206,
          -122.308125,
          -122.191237,
          -122.338038,
          -122.4882889,
          -122.209275,
          -122.24834,
          -122.3304533,
          -122.344819,
          -122.1484548,
          -122.309915,
          -122.0528913,
          -122.3135201,
          -122.4591346,
          -122.6038876,
          -122.121185,
          -89.522751,
          -87.9216153
         ],
         "marker": {
          "autocolorscale": false,
          "cmin": 0,
          "colorbar": {
           "title": {
            "text": "COSTCO STORE LOCATIONS"
           }
          },
          "colorscale": [
           [
            0,
            "rgb(247,251,255)"
           ],
           [
            0.125,
            "rgb(222,235,247)"
           ],
           [
            0.25,
            "rgb(198,219,239)"
           ],
           [
            0.375,
            "rgb(158,202,225)"
           ],
           [
            0.5,
            "rgb(107,174,214)"
           ],
           [
            0.625,
            "rgb(66,146,198)"
           ],
           [
            0.75,
            "rgb(33,113,181)"
           ],
           [
            0.875,
            "rgb(8,81,156)"
           ],
           [
            1,
            "rgb(8,48,107)"
           ]
          ],
          "line": {
           "color": "rgba(102, 102, 102)",
           "width": 1
          },
          "opacity": 0.8,
          "reversescale": true,
          "size": 8,
          "symbol": "square"
         },
         "mode": "markers",
         "text": [
          "1205 N. Memorial Parkway",
          "3650 Galleria Circle",
          "8251 Eastchase Parkway",
          "5225 Commercial Boulevard",
          "330 West Dimond Blvd",
          "4125 DeBarr Road",
          "3911 Highway 69",
          "3901 West Costco Drive",
          "6255 East Grant Road",
          "17550 N. 79th Ave.",
          "2887 S Market St",
          "1445 West Elliot Road",
          "15255 North Hayden Road",
          "1415 North Arizona Avenue",
          "595 S Galleria Way",
          "1444 S Sossaman Rd",
          "2450 E Beardsley Rd",
          "19001 N. 27th Ave",
          "3801 N. 33rd Avenue",
          "1646 W. Montebello",
          "4502 East Oak Street",
          "10000 W. McDowell Road",
          "4570 E Cactus Rd",
          "2345 Fenton Pkwy",
          "1300 Dana Drive",
          "2100 Dr Martin Luther King Jr Way",
          "7981 East Stockton Boulevard",
          "1600 Expo Parkway",
          "2299 Bronze Star Drive",
          "11260 White Rock Road",
          "6750 Stanford Ranch Road",
          "1800 Cavitt Court",
          "7000 Auburn Blvd",
          "1006 West Wabash Avenue",
          "1900 Santa Rosa Avenue",
          "3801 Pelandale Ave.",
          "1445 R Street",
          "2440 Daniels St",
          "1616 East Hammer Lane",
          "1709 Automation Parkway",
          "5301 Almaden Expressway",
          "2201 Senter Road",
          "220 Sylvania Avenue",
          "1601 Coleman Avenue",
          "300 Vintage Way",
          "4801 Central Avenue",
          "198 Plaza Drive",
          "5101 Business Center Drive",
          "1900 Davis Street",
          "2800 Independence Drive",
          "22330 Hathaway Avenue",
          "43621 Pacific Commons Blvd",
          "3150 Fostoria Way",
          "2201 Verne Roberts Circle",
          "1001 Metro Center Boulevard",
          "450 10th Street",
          "150 Lawrence Station Road",
          "451 South Airport Boulevard",
          "1600 El Camino Real",
          "1000 North Rengstorff Avenue",
          "801 Tioga Avenue",
          "1339 North Davis Road",
          "4500 W Shaw",
          "380 West Ashlan Avenue",
          "1141 West Avenue L",
          "1335 South Bradley",
          "1540 Froom Ranch Way",
          "1405 W Cameron Ave",
          "7095 Market Place Drive",
          "2001 East Ventura Boulevard",
          "22633 Savi Ranch Parkway",
          "480 McKinley Street",
          "11000 Garden Grove Boulevard",
          "900 South Harbor Boulevard",
          "2655 El Camino Real",
          "2700 Park Ave",
          "17900 Newhope Street",
          "27972 Cabot Road",
          "33961 Doheny Park Road",
          "115 Technology West Drive",
          "12700 Day Street",
          "29315 Central Ave",
          "1099 East Hospitality Lane",
          "14555 Valley Center Drive",
          "2030 North Imperial Avenue",
          "72-800 Dinah Shore Drive",
          "12350 Carmel Mountain Road",
          "650 Gateway Center Drive",
          "1755 Hacienda Drive",
          "101 Town Center Parkway",
          "12155 Tech Center Drive",
          "951 Palomar Airport Road",
          "8125 Fletcher Parkway",
          "1130 Broadway",
          "895 East H Street",
          "2207 West Commonwealth Avenue",
          "520 N Lone Hill Ave",
          "9404 Central Avenue",
          "17550 Castleton St.",
          "11800 4th Street",
          "13111 Peyton Drive",
          "1220 West Foothill Boulevard",
          "1051 Burbank Blvd.",
          "6100 Sepulveda Boulevard",
          "18649 Via Princessa",
          "5700 Lindero Canyon Road",
          "8810 Tampa Avenue",
          "21300 Roscoe Boulevard",
          "2200 East Willow Street",
          "340 Lakewood Center Mall",
          "12324 Hoxie Avenue",
          "1345 North Montebello Boulevard",
          "101 N Beach Blvd",
          "2751 Sky Park Drive",
          "3560 West Century Blvd",
          "13463 Washington Boulevard",
          "14501 Hindry Avenue",
          "2901 Los Feliz Boulevard",
          "1051 Hume Way",
          "2955 North Tegner Road",
          "3250 W. Grant Line Road",
          "7251 Camino Arroyo",
          "5901 Redwood Drive",
          "28505 Hesperian Blvd",
          "2300 Middlefield Rd",
          "7100 N. Abby Street",
          "4900 Panama Lane",
          "3800 Rosedale Highway",
          "27220 Heather Ridge Road",
          "26610 Ynez Road",
          "16505 Sierra Lakes Parkway",
          "79795 Hwy 111",
          "4605 Morena Boulevard",
          "7803 Othello Ave",
          "13550 W Paxton St",
          "5401 Katella Ave",
          "12530 Prairie Ave",
          "6333 Telegraph Rd",
          "170 Cooley Mesa Rd",
          "5885 Barnes Road",
          "18414 Cottonwood Dr",
          "8686 Park Meadows Center Drive",
          "7900 West Quincy Avenue",
          "4000 River Point Parkway",
          "6400 West 92nd Avenue",
          "600 Marshall Road",
          "16375 N Washington St",
          "1471 South Havana",
          "5195 Wadsworth Blvd.",
          "5050 N Nevada Ave",
          "779 Connecticut Ave",
          "200 Federal Road",
          "3600 East Main Street",
          "1718 Boston Post Road",
          "75 Freshwater Blvd",
          "900 Center Boulevard",
          "17800 Congress Avenue",
          "6275 Naples Boulevard",
          "10088 Gulf Center Drive",
          "7171 Cypress Lake Drive",
          "10921 Causeway Blvd.",
          "1873 West Lantana Road",
          "11001 Southern Blvd - Ste 160",
          "3250 Northlake Boulevard",
          "1890 South University Drive",
          "13450 SW 120th St",
          "14585 Biscayne Boulevard",
          "8300 Park Boulevard",
          "1800 West Sample Road",
          "15915 Pines Blvd",
          "16580 NW 59th Avenue",
          "2101 Water Bridge Blvd",
          "3333 University Boulevard",
          "741 Orange Avenue",
          "4067 Lagniappe Way",
          "4901 Gate Parkway",
          "2655 Gulf to Bay Blvd.",
          "100 Cobb Parkway",
          "1550 Mall of Georgia Blvd",
          "2900 Cumberland Mall",
          "6350 Peachtree Dunwoody Rd N.E.",
          "1700 Mount Zion Road",
          "645 Barrett Parkway",
          "3980 Venture Drive",
          "2855 Jordan Ct",
          "500 Brookhaven Ave",
          "73-5600 Maiau Street",
          "333A Keahole Street",
          "94-1231 Ka Uka Blvd",
          "4300 Nuhou St",
          "540 Haleakala Highway",
          "4589 Kapolei Parkway",
          "525 Alakawa Street",
          "355 East Neider Avenue",
          "2051 S. Cole Road",
          "16700 N Marketplace Blvd",
          "731 Pole Line Road",
          "305 West Quinn Rd",
          "7311 North Melvina Ave",
          "7300 S. Cicero Ave",
          "2746 N. Clybourn Avenue",
          "1901 West 22nd Street",
          "9915 W 159th St",
          "1375 North Meacham Rd",
          "250 N. Randall Rd.",
          "505 W. Army Trail Road",
          "680 S. Rand Road",
          "1320 S. Route 59",
          "830 E Boughton Rd",
          "221 S. Randall Rd",
          "8400 W North Ave",
          "999 N. Elmhurst Road",
          "25901 Riverwoods Rd",
          "2900 Patriot Blvd",
          "1310 E. 79th Ave",
          "9010 Michigan Road",
          "6110 East 86th Street",
          "7205 Mills Civic Parkway",
          "9350 Marshall Drive",
          "12221 Blue Valley Parkway",
          "5020 Norton Healthcare Blvd",
          "2400 Five Lees Lane",
          "10 Monocacy Blvd.",
          "9919 Pulaski Highway",
          "7077 Arundel Mills Circle",
          "6675 Marie Curie Drive",
          "575 East Ordnance Road",
          "880 Russell Avenue",
          "10925 Baltimore Avenue (Route 1)",
          "16006 Crain Highway SE",
          "71 Second Avenue",
          "120 Stockwell Drive",
          "400 Commercial Circle",
          "11 Newbury Street (Route 1)",
          "119 Daggett Drive",
          "2 Mystic View Road",
          "5100 28th Street SE",
          "4901 Wilson Avenue",
          "400 Brown Road",
          "45460 Market Street",
          "2343 South Telegraph Rd",
          "20000 Haggerty Rd",
          "13700 Middlebelt Road",
          "6700 Whitmore Lake Rd",
          "30550 Stephenson Highway",
          "27118 Gratiot Avenue",
          "3000 Commerce Crossing",
          "12547 Riverdale Blvd.",
          "5801 16th Street West",
          "11330 Fountains Dr N",
          "12011 Technology Drive",
          "1431 Beam Ave",
          "14050 Burnhaven Dr",
          "241 East Linwood Blvd",
          "19040 E. Valley View Pkwy",
          "200 Costco Way",
          "4200 Rusty Road",
          "301 Highlands Blvd Drive",
          "2330 US Highway 93 N",
          "3220 Northern Pacific Avenue",
          "2505 Catron Street",
          "2195 E Custer Ave",
          "2290 King Avenue West",
          "12300 West Dodge Rd",
          "700 Old Clear Creek Road",
          "2200 Harvard Way",
          "4810 Galleria Parkway",
          "801 S. Pavilion Center Drive",
          "6555 N Decatur Blvd",
          "222 S Martin Luther King Blvd",
          "791 Marks Street",
          "311 Daniel Webster Highway",
          "2210 Route 27 North",
          "325 Promenade Blvd.",
          "465 Route 70",
          "100 Centerton Road",
          "245 Stafford Park Blvd",
          "156 SR-10 West",
          "315 Route 15",
          "2835 Route 35 South",
          "80 South River Street",
          "77 Willowbrook Boulevard",
          "1055 Hudson St",
          "20 Bridewell Place",
          "500 Eubank Blvd SE",
          "9955 Coors Bypass NW",
          "1420 Renaissance Boulevard NE",
          "3000 Middle Country Road",
          "625 Broadhollow Road",
          "125 Beacon Drive",
          "10 Garret Place",
          "1250 Old Country Road",
          "605 Rockaway Turnpike",
          "976 3rd Avenue",
          "32-50 Vernon Boulevard",
          "50 Overlook Boulevard",
          "1 Industrial Lane",
          "20 Stew Leonard Drive",
          "2975 Richmond Avenue",
          "61-35 Junction Boulevard",
          "1 Westchester Ave.",
          "517 E 117th St",
          "5351 Gingerwood Dr",
          "500 Tyvola Road",
          "2125 Matthews Township Pkwy",
          "1510 North Pointe Drive",
          "2838 Wake Forest Rd",
          "4201 West Wendover Ave",
          "1085 Hanes Mall Blvd.",
          "9691 Waterstone Blvd",
          "1100 East Kemper Road",
          "1409 Golden Gate Blvd.",
          "3405 West Central Ave",
          "1500 Gemini Place",
          "16690 Royalton Rd",
          "35804 Detroit Road",
          "2500 Northeast Highway 20",
          "3639 Crater Lake Highway",
          "2828 Chad Drive",
          "3130 Killdeer Ave",
          "1010 Hawthorne Avenue SE",
          "4849 NE 138th Ave",
          "7855 SW Dartmouth Ave",
          "1255 NE 48th Ave",
          "25900 SW Heather Place",
          "13130 SE 84th Avenue",
          "15901 SW Jenkins",
          "4141 NE Stephens",
          "1804 SE Ensign Lane",
          "740 Upper State Road",
          "201 Allendale Road",
          "1875 Hempstead Road",
          "5125 Jonestown Road Suite 221",
          "1050 Cranberry Square Drive",
          "501 W Waterfront Dr",
          "202 Costco Drive",
          "1021 Woodruff Rd",
          "1021 Oak Forest Lane",
          "3050 Ashley Town Center",
          "211 W Blackstock Rd",
          "3775 Hacks Cross Road",
          "2431 North Germantown Parkway",
          "6670 Charlotte Pike",
          "98 Seaboard Lane",
          "10401 Research Blvd",
          "5611 Utsa Blvd",
          "15330 IH-35 North",
          "12405 N. Gessner Rd.",
          "1150 Bunker Hill Road",
          "3836 Richmond Ave",
          "5300 Overton Ridge Blvd",
          "2601 E. State Hwy 114",
          "600 West Arbrook Blvd",
          "1701 Dallas Pkwy",
          "3800 N. Central Expressway",
          "851 S. State Hwy 121",
          "6101 Gateway West Blvd",
          "1201 N. Loop 1604 East",
          "250 West Highway 67",
          "1225 State Hwy 276",
          "835 North 3050 East",
          "3656 Wall Avenue",
          "3747 South 2700 West",
          "1818 South 300 West",
          "648 East 800 South",
          "11100 S. Auto Mall Drive",
          "198 North 1200 East",
          "573 West 100 North",
          "5201 South Intermountain Drive",
          "218 Lower Mountain View Drive",
          "12121 Jefferson Avenue",
          "850 Glenrock Road",
          "3700 Price Club Boulevard",
          "9650 West Broad Street",
          "1830 Reservoir Street",
          "251 Front Royal Pike",
          "1200 South Fern Street",
          "2700 Potomac Mills Circle - Ste 200",
          "7373 Boston Boulevard",
          "4725 West Ox Road",
          "1300 Edwards Ferry Road",
          "21398 Price/Cascades Plaza",
          "14390 Chantilly Crossing Lane",
          "10701 Sudley Manor Drive",
          "3102 Plank Road #600",
          "8629 120th Avenue NE",
          "301 Fifth Street",
          "8505A W. Gage Blvd",
          "5601 East Sprague Avenue",
          "7619 North Division Street",
          "2310 Longfibre Rd",
          "375 Highline Drive South",
          "6720 NE 84th Street",
          "1470 Marvin Rd NE",
          "5500 Littlerock Road",
          "3900 20th St. East",
          "2219 South 37th Street",
          "10000 Mickelberry Rd. NW",
          "955 West Washington St",
          "955 West Washington St",
          "1201 39th SW",
          "16616 Twin Lakes Ave",
          "1725 S. Burlington Blvd",
          "4299 Guide Meridian Street",
          "10200 19th Avenue SE",
          "400 Costco Drive Suite 150",
          "4401 4th Avenue South",
          "1175 North 205th Street",
          "24008 Snohomish-Woodinville Rd SE",
          "19105 Highway 99",
          "1801 10th Avenue NW",
          "35100 Enchanted Parkway South",
          "19610 SE 1st St",
          "10990 Harbor Hill Dr",
          "27520 Covington Way SE",
          "2150 Deming Way",
          "950 Port Washington Rd"
         ],
         "type": "scattergeo"
        }
       ],
       "layout": {
        "geo": {
         "countrycolor": "rgb(217, 217, 217)",
         "countrywidth": 0.5,
         "landcolor": "rgb(250, 250, 250)",
         "projection": {
          "type": "albers usa"
         },
         "scope": "usa",
         "showland": true,
         "subunitcolor": "rgb(217, 217, 217)",
         "subunitwidth": 0.5
        },
        "template": {
         "data": {
          "bar": [
           {
            "error_x": {
             "color": "#2a3f5f"
            },
            "error_y": {
             "color": "#2a3f5f"
            },
            "marker": {
             "line": {
              "color": "#E5ECF6",
              "width": 0.5
             },
             "pattern": {
              "fillmode": "overlay",
              "size": 10,
              "solidity": 0.2
             }
            },
            "type": "bar"
           }
          ],
          "barpolar": [
           {
            "marker": {
             "line": {
              "color": "#E5ECF6",
              "width": 0.5
             },
             "pattern": {
              "fillmode": "overlay",
              "size": 10,
              "solidity": 0.2
             }
            },
            "type": "barpolar"
           }
          ],
          "carpet": [
           {
            "aaxis": {
             "endlinecolor": "#2a3f5f",
             "gridcolor": "white",
             "linecolor": "white",
             "minorgridcolor": "white",
             "startlinecolor": "#2a3f5f"
            },
            "baxis": {
             "endlinecolor": "#2a3f5f",
             "gridcolor": "white",
             "linecolor": "white",
             "minorgridcolor": "white",
             "startlinecolor": "#2a3f5f"
            },
            "type": "carpet"
           }
          ],
          "choropleth": [
           {
            "colorbar": {
             "outlinewidth": 0,
             "ticks": ""
            },
            "type": "choropleth"
           }
          ],
          "contour": [
           {
            "colorbar": {
             "outlinewidth": 0,
             "ticks": ""
            },
            "colorscale": [
             [
              0,
              "#0d0887"
             ],
             [
              0.1111111111111111,
              "#46039f"
             ],
             [
              0.2222222222222222,
              "#7201a8"
             ],
             [
              0.3333333333333333,
              "#9c179e"
             ],
             [
              0.4444444444444444,
              "#bd3786"
             ],
             [
              0.5555555555555556,
              "#d8576b"
             ],
             [
              0.6666666666666666,
              "#ed7953"
             ],
             [
              0.7777777777777778,
              "#fb9f3a"
             ],
             [
              0.8888888888888888,
              "#fdca26"
             ],
             [
              1,
              "#f0f921"
             ]
            ],
            "type": "contour"
           }
          ],
          "contourcarpet": [
           {
            "colorbar": {
             "outlinewidth": 0,
             "ticks": ""
            },
            "type": "contourcarpet"
           }
          ],
          "heatmap": [
           {
            "colorbar": {
             "outlinewidth": 0,
             "ticks": ""
            },
            "colorscale": [
             [
              0,
              "#0d0887"
             ],
             [
              0.1111111111111111,
              "#46039f"
             ],
             [
              0.2222222222222222,
              "#7201a8"
             ],
             [
              0.3333333333333333,
              "#9c179e"
             ],
             [
              0.4444444444444444,
              "#bd3786"
             ],
             [
              0.5555555555555556,
              "#d8576b"
             ],
             [
              0.6666666666666666,
              "#ed7953"
             ],
             [
              0.7777777777777778,
              "#fb9f3a"
             ],
             [
              0.8888888888888888,
              "#fdca26"
             ],
             [
              1,
              "#f0f921"
             ]
            ],
            "type": "heatmap"
           }
          ],
          "heatmapgl": [
           {
            "colorbar": {
             "outlinewidth": 0,
             "ticks": ""
            },
            "colorscale": [
             [
              0,
              "#0d0887"
             ],
             [
              0.1111111111111111,
              "#46039f"
             ],
             [
              0.2222222222222222,
              "#7201a8"
             ],
             [
              0.3333333333333333,
              "#9c179e"
             ],
             [
              0.4444444444444444,
              "#bd3786"
             ],
             [
              0.5555555555555556,
              "#d8576b"
             ],
             [
              0.6666666666666666,
              "#ed7953"
             ],
             [
              0.7777777777777778,
              "#fb9f3a"
             ],
             [
              0.8888888888888888,
              "#fdca26"
             ],
             [
              1,
              "#f0f921"
             ]
            ],
            "type": "heatmapgl"
           }
          ],
          "histogram": [
           {
            "marker": {
             "pattern": {
              "fillmode": "overlay",
              "size": 10,
              "solidity": 0.2
             }
            },
            "type": "histogram"
           }
          ],
          "histogram2d": [
           {
            "colorbar": {
             "outlinewidth": 0,
             "ticks": ""
            },
            "colorscale": [
             [
              0,
              "#0d0887"
             ],
             [
              0.1111111111111111,
              "#46039f"
             ],
             [
              0.2222222222222222,
              "#7201a8"
             ],
             [
              0.3333333333333333,
              "#9c179e"
             ],
             [
              0.4444444444444444,
              "#bd3786"
             ],
             [
              0.5555555555555556,
              "#d8576b"
             ],
             [
              0.6666666666666666,
              "#ed7953"
             ],
             [
              0.7777777777777778,
              "#fb9f3a"
             ],
             [
              0.8888888888888888,
              "#fdca26"
             ],
             [
              1,
              "#f0f921"
             ]
            ],
            "type": "histogram2d"
           }
          ],
          "histogram2dcontour": [
           {
            "colorbar": {
             "outlinewidth": 0,
             "ticks": ""
            },
            "colorscale": [
             [
              0,
              "#0d0887"
             ],
             [
              0.1111111111111111,
              "#46039f"
             ],
             [
              0.2222222222222222,
              "#7201a8"
             ],
             [
              0.3333333333333333,
              "#9c179e"
             ],
             [
              0.4444444444444444,
              "#bd3786"
             ],
             [
              0.5555555555555556,
              "#d8576b"
             ],
             [
              0.6666666666666666,
              "#ed7953"
             ],
             [
              0.7777777777777778,
              "#fb9f3a"
             ],
             [
              0.8888888888888888,
              "#fdca26"
             ],
             [
              1,
              "#f0f921"
             ]
            ],
            "type": "histogram2dcontour"
           }
          ],
          "mesh3d": [
           {
            "colorbar": {
             "outlinewidth": 0,
             "ticks": ""
            },
            "type": "mesh3d"
           }
          ],
          "parcoords": [
           {
            "line": {
             "colorbar": {
              "outlinewidth": 0,
              "ticks": ""
             }
            },
            "type": "parcoords"
           }
          ],
          "pie": [
           {
            "automargin": true,
            "type": "pie"
           }
          ],
          "scatter": [
           {
            "marker": {
             "colorbar": {
              "outlinewidth": 0,
              "ticks": ""
             }
            },
            "type": "scatter"
           }
          ],
          "scatter3d": [
           {
            "line": {
             "colorbar": {
              "outlinewidth": 0,
              "ticks": ""
             }
            },
            "marker": {
             "colorbar": {
              "outlinewidth": 0,
              "ticks": ""
             }
            },
            "type": "scatter3d"
           }
          ],
          "scattercarpet": [
           {
            "marker": {
             "colorbar": {
              "outlinewidth": 0,
              "ticks": ""
             }
            },
            "type": "scattercarpet"
           }
          ],
          "scattergeo": [
           {
            "marker": {
             "colorbar": {
              "outlinewidth": 0,
              "ticks": ""
             }
            },
            "type": "scattergeo"
           }
          ],
          "scattergl": [
           {
            "marker": {
             "colorbar": {
              "outlinewidth": 0,
              "ticks": ""
             }
            },
            "type": "scattergl"
           }
          ],
          "scattermapbox": [
           {
            "marker": {
             "colorbar": {
              "outlinewidth": 0,
              "ticks": ""
             }
            },
            "type": "scattermapbox"
           }
          ],
          "scatterpolar": [
           {
            "marker": {
             "colorbar": {
              "outlinewidth": 0,
              "ticks": ""
             }
            },
            "type": "scatterpolar"
           }
          ],
          "scatterpolargl": [
           {
            "marker": {
             "colorbar": {
              "outlinewidth": 0,
              "ticks": ""
             }
            },
            "type": "scatterpolargl"
           }
          ],
          "scatterternary": [
           {
            "marker": {
             "colorbar": {
              "outlinewidth": 0,
              "ticks": ""
             }
            },
            "type": "scatterternary"
           }
          ],
          "surface": [
           {
            "colorbar": {
             "outlinewidth": 0,
             "ticks": ""
            },
            "colorscale": [
             [
              0,
              "#0d0887"
             ],
             [
              0.1111111111111111,
              "#46039f"
             ],
             [
              0.2222222222222222,
              "#7201a8"
             ],
             [
              0.3333333333333333,
              "#9c179e"
             ],
             [
              0.4444444444444444,
              "#bd3786"
             ],
             [
              0.5555555555555556,
              "#d8576b"
             ],
             [
              0.6666666666666666,
              "#ed7953"
             ],
             [
              0.7777777777777778,
              "#fb9f3a"
             ],
             [
              0.8888888888888888,
              "#fdca26"
             ],
             [
              1,
              "#f0f921"
             ]
            ],
            "type": "surface"
           }
          ],
          "table": [
           {
            "cells": {
             "fill": {
              "color": "#EBF0F8"
             },
             "line": {
              "color": "white"
             }
            },
            "header": {
             "fill": {
              "color": "#C8D4E3"
             },
             "line": {
              "color": "white"
             }
            },
            "type": "table"
           }
          ]
         },
         "layout": {
          "annotationdefaults": {
           "arrowcolor": "#2a3f5f",
           "arrowhead": 0,
           "arrowwidth": 1
          },
          "autotypenumbers": "strict",
          "coloraxis": {
           "colorbar": {
            "outlinewidth": 0,
            "ticks": ""
           }
          },
          "colorscale": {
           "diverging": [
            [
             0,
             "#8e0152"
            ],
            [
             0.1,
             "#c51b7d"
            ],
            [
             0.2,
             "#de77ae"
            ],
            [
             0.3,
             "#f1b6da"
            ],
            [
             0.4,
             "#fde0ef"
            ],
            [
             0.5,
             "#f7f7f7"
            ],
            [
             0.6,
             "#e6f5d0"
            ],
            [
             0.7,
             "#b8e186"
            ],
            [
             0.8,
             "#7fbc41"
            ],
            [
             0.9,
             "#4d9221"
            ],
            [
             1,
             "#276419"
            ]
           ],
           "sequential": [
            [
             0,
             "#0d0887"
            ],
            [
             0.1111111111111111,
             "#46039f"
            ],
            [
             0.2222222222222222,
             "#7201a8"
            ],
            [
             0.3333333333333333,
             "#9c179e"
            ],
            [
             0.4444444444444444,
             "#bd3786"
            ],
            [
             0.5555555555555556,
             "#d8576b"
            ],
            [
             0.6666666666666666,
             "#ed7953"
            ],
            [
             0.7777777777777778,
             "#fb9f3a"
            ],
            [
             0.8888888888888888,
             "#fdca26"
            ],
            [
             1,
             "#f0f921"
            ]
           ],
           "sequentialminus": [
            [
             0,
             "#0d0887"
            ],
            [
             0.1111111111111111,
             "#46039f"
            ],
            [
             0.2222222222222222,
             "#7201a8"
            ],
            [
             0.3333333333333333,
             "#9c179e"
            ],
            [
             0.4444444444444444,
             "#bd3786"
            ],
            [
             0.5555555555555556,
             "#d8576b"
            ],
            [
             0.6666666666666666,
             "#ed7953"
            ],
            [
             0.7777777777777778,
             "#fb9f3a"
            ],
            [
             0.8888888888888888,
             "#fdca26"
            ],
            [
             1,
             "#f0f921"
            ]
           ]
          },
          "colorway": [
           "#636efa",
           "#EF553B",
           "#00cc96",
           "#ab63fa",
           "#FFA15A",
           "#19d3f3",
           "#FF6692",
           "#B6E880",
           "#FF97FF",
           "#FECB52"
          ],
          "font": {
           "color": "#2a3f5f"
          },
          "geo": {
           "bgcolor": "white",
           "lakecolor": "white",
           "landcolor": "#E5ECF6",
           "showlakes": true,
           "showland": true,
           "subunitcolor": "white"
          },
          "hoverlabel": {
           "align": "left"
          },
          "hovermode": "closest",
          "mapbox": {
           "style": "light"
          },
          "paper_bgcolor": "white",
          "plot_bgcolor": "#E5ECF6",
          "polar": {
           "angularaxis": {
            "gridcolor": "white",
            "linecolor": "white",
            "ticks": ""
           },
           "bgcolor": "#E5ECF6",
           "radialaxis": {
            "gridcolor": "white",
            "linecolor": "white",
            "ticks": ""
           }
          },
          "scene": {
           "xaxis": {
            "backgroundcolor": "#E5ECF6",
            "gridcolor": "white",
            "gridwidth": 2,
            "linecolor": "white",
            "showbackground": true,
            "ticks": "",
            "zerolinecolor": "white"
           },
           "yaxis": {
            "backgroundcolor": "#E5ECF6",
            "gridcolor": "white",
            "gridwidth": 2,
            "linecolor": "white",
            "showbackground": true,
            "ticks": "",
            "zerolinecolor": "white"
           },
           "zaxis": {
            "backgroundcolor": "#E5ECF6",
            "gridcolor": "white",
            "gridwidth": 2,
            "linecolor": "white",
            "showbackground": true,
            "ticks": "",
            "zerolinecolor": "white"
           }
          },
          "shapedefaults": {
           "line": {
            "color": "#2a3f5f"
           }
          },
          "ternary": {
           "aaxis": {
            "gridcolor": "white",
            "linecolor": "white",
            "ticks": ""
           },
           "baxis": {
            "gridcolor": "white",
            "linecolor": "white",
            "ticks": ""
           },
           "bgcolor": "#E5ECF6",
           "caxis": {
            "gridcolor": "white",
            "linecolor": "white",
            "ticks": ""
           }
          },
          "title": {
           "x": 0.05
          },
          "xaxis": {
           "automargin": true,
           "gridcolor": "white",
           "linecolor": "white",
           "ticks": "",
           "title": {
            "standoff": 15
           },
           "zerolinecolor": "white",
           "zerolinewidth": 2
          },
          "yaxis": {
           "automargin": true,
           "gridcolor": "white",
           "linecolor": "white",
           "ticks": "",
           "title": {
            "standoff": 15
           },
           "zerolinecolor": "white",
           "zerolinewidth": 2
          }
         }
        },
        "title": {
         "text": "COSTCO STORE LOCATIONS<br>(Hover Location Address)"
        }
       }
      },
      "text/html": [
       "<div>                            <div id=\"ea37106e-b1e5-4c4b-bc68-b8bfdc832bc3\" class=\"plotly-graph-div\" style=\"height:525px; width:100%;\"></div>            <script type=\"text/javascript\">                require([\"plotly\"], function(Plotly) {                    window.PLOTLYENV=window.PLOTLYENV || {};                                    if (document.getElementById(\"ea37106e-b1e5-4c4b-bc68-b8bfdc832bc3\")) {                    Plotly.newPlot(                        \"ea37106e-b1e5-4c4b-bc68-b8bfdc832bc3\",                        [{\"lat\":[34.7430949,33.377649,32.363889,58.3592,61.143266,61.210815,34.548993,32.3262177,32.2522189,33.643277,33.296095,33.347289,33.6241344,33.376244,33.293696,33.3886808,33.670943,33.659688,33.49179,33.5206919,33.473335,33.467156,33.600961,32.7789832,40.586449,39.7214025,38.4677597,38.597139,38.6699409,38.588195,38.78061,38.645206,38.6903,40.7919385,38.4204562,37.7003612,37.3019943,37.784874,38.018791,37.3886293,37.253214,37.309657,36.985104,37.357021,38.087238,37.898774,38.133192,38.215406,37.7181741,37.702588,37.667516,37.5031232,37.78259,38.009119,37.561366,37.770488,37.372027,37.6422308,37.6654356,37.420676,36.6170705,36.703939,36.80989,36.792187,34.66129,34.936541,35.251917,36.292806,34.42789,34.2251071,33.87567,33.8899732,33.773511,33.862449,33.7282,33.699689,33.703448,33.5569565,33.469498,33.6570006,33.935555,33.696337,34.068044,34.5155574,32.8152064,33.7996392,32.987241,32.712739,33.1879309,32.840642,32.93649,33.1201381,32.773971,32.6089545,32.637276,34.089515,34.112139,34.083039,33.994075,34.078576,34.014463,34.131982,34.185739,34.181613,34.4027129,34.152307,34.230765,34.218644,33.8043173,33.850463,33.919958,34.032917,33.932029,33.800813,33.943257,33.992576,33.898805,34.1285583,38.3506756,37.519131,37.7510679,37.008207,38.3527259,37.6163221,37.478656,36.839426,35.297271,35.384837,33.567618,33.521227,34.137557,33.704896,32.8234958,32.816251,34.2725894,33.8031834,33.918618,33.9947586,39.6433872,38.892736,39.5580896,39.561203,39.638285,39.644445,39.862237,39.9576167,39.991358,39.690471,39.790074,38.9037505,41.0919457,41.4422731,41.542672,41.249661,41.9936047,39.677736,26.411955,26.22026,26.489631,26.544447,27.921491,26.5872905,26.6810314,26.8083519,26.0969039,25.655668,25.909564,25.774109,26.273566,26.009617,25.923451,28.404252,28.59907,28.6618672,30.4606461,30.252071,27.9604528,34.9326477,34.0620378,33.8816153,33.927816,33.572052,34.0092178,33.947764,34.090513,33.8709805,19.687344,21.282117,21.4188931,21.9665355,20.887082,21.3272958,21.3184739,47.7080223,43.585487,43.615175,42.591998,42.905739,42.014665,41.7600708,41.9297729,41.845569,41.6011911,42.0565401,42.1788808,41.9396832,42.187135,41.7443388,41.7265993,41.9073026,41.9091302,42.0831646,42.240048,42.1090138,41.4738435,39.916735,39.913779,41.562811,38.95885,38.906906,38.3163673,38.9731445,39.4018344,39.358195,39.15582,39.186369,39.2035401,39.155646,37.228312,38.6645584,42.395066,42.136598,42.230996,37.226693,42.13216,42.4017251,42.910564,42.875818,42.7070854,42.6295851,42.606916,42.432885,42.3813419,42.5044786,42.5161919,42.4959314,42.534006,45.1985438,44.9676254,45.09298,44.8603208,45.029375,44.7481179,39.0682148,39.0372034,38.797262,38.506798,38.597951,48.174177,46.89293,45.71334,46.616615,45.7550163,41.265224,39.1123484,39.503102,39.579204,36.1633476,36.278946,36.1721288,36.06985,42.7023,40.5317305,40.5644881,40.0547573,39.9505868,39.70721,40.8096853,40.906896,40.4194098,40.876239,40.8872413,40.6931,40.830625,35.068225,35.19547,35.136386,40.862057,40.757604,40.773266,40.8067522,40.743347,40.6307824,40.6554813,40.7673216,41.107253,40.896403,40.9749617,40.57268,40.7333304,40.997205,40.7953918,34.2471728,35.162075,35.130096,36.028911,35.818255,36.058064,36.064731,39.2956999,39.288172,41.5241698,41.6773358,40.150574,41.3130793,41.461881,44.057267,42.3687759,44.089117,44.6391268,44.918976,45.559288,45.4367116,45.535709,45.332949,45.429738,45.509085,43.2590258,46.1472442,40.2391985,40.091369,40.052357,40.3098913,40.691215,40.4067922,40.4581284,34.8360858,33.705698,32.7953856,34.9370256,35.0465639,35.19204,36.1392669,35.963436,30.3968644,29.576287,29.598391,29.9536092,29.787755,29.7327829,32.6775654,32.9419217,32.6846619,33.023989,33.0441379,32.9952011,31.783497,29.611904,32.620946,32.9087304,37.122515,41.197413,40.6903769,40.730657,40.2822443,40.5506675,40.389719,40.889379,40.6577119,44.5034,37.106044,36.851561,37.438778,37.642294,38.428597,39.157827,38.8624735,38.642245,38.739883,38.849315,39.115223,39.023821,38.8951069,38.783572,38.293479,47.681717,46.4229672,46.225654,47.658358,47.724927,46.562354,47.401812,45.684942,47.05934,46.996336,47.238297,47.224683,47.656571,48.0770692,48.0770692,47.156472,48.147561,48.453882,48.7974507,47.903556,47.445595,47.5649224,47.77567,47.779015,47.82549,47.5512165,47.2869797,45.6212994,47.3577482,47.354838,43.100195,43.3246907],\"locationmode\":\"USA-states\",\"lon\":[-86.6009553,-86.81242,-86.150884,-134.483,-149.884217,-149.804337,-112.3954274,-111.0491606,-110.859554,-112.233474,-111.745647,-111.961862,-111.9019118,-111.840765,-111.899509,-111.6675437,-112.028124,-112.115841,-112.128379,-112.095189,-111.985531,-112.274404,-111.983793,-117.1269067,-122.345675,-121.8096578,-121.4154069,-121.452409,-121.7259571,-121.263769,-121.267423,-121.109598,-121.29859,-124.1825438,-122.7134804,-121.0671386,-120.4940012,-121.260014,-121.292757,-121.8829132,-121.879999,-121.851571,-122.033615,-121.938843,-122.551076,-122.320125,-122.213745,-122.144911,-122.1809332,-121.812265,-122.10278,-121.9748814,-121.972853,-121.837904,-122.275144,-122.411106,-121.994779,-122.4010744,-122.4490857,-122.095061,-121.8474767,-121.668608,-119.874081,-119.714342,-118.151429,-120.42084,-120.691013,-119.306638,-119.874572,-119.148567,-117.74385,-117.5208947,-117.940271,-117.92211,-117.796294,-117.822618,-117.931978,-117.6788758,-117.677697,-117.7397337,-117.276579,-117.339182,-117.263077,-117.3196428,-115.5700028,-116.3819564,-117.077675,-117.11613,-117.2767568,-116.987356,-117.033125,-117.3165503,-117.024305,-117.0809526,-117.022199,-118.148531,-117.82633,-117.690661,-117.922,-117.5482714,-117.741815,-117.925681,-118.324045,-118.46401,-118.4550432,-118.797131,-118.551069,-118.596119,-118.166725,-118.136453,-118.102519,-118.097463,-117.969786,-118.34993,-118.333856,-118.446821,-118.372745,-118.2636796,-121.9817708,-120.888552,-121.475091,-121.556447,-122.717092,-122.0889509,-122.216527,-119.78774,-119.058275,-119.048452,-117.711571,-117.154362,-117.442672,-116.272801,-117.2282851,-117.153631,-118.4276271,-118.038976,-118.342576,-118.1430614,-106.8885487,-104.71771,-104.7758852,-104.874753,-105.082856,-105.006451,-105.0661949,-105.1699298,-104.983163,-104.86808,-105.082637,-104.8172136,-73.4515808,-73.4051279,-72.9686675,-73.023977,-72.5754399,-75.64737,-80.1008839,-81.77492,-81.785933,-81.8742089,-82.330936,-80.0726927,-80.2195563,-80.0879667,-80.2509582,-80.412069,-80.156203,-80.330536,-80.148255,-80.360331,-80.298706,-81.40671,-81.30024,-81.4176945,-84.2124709,-81.533776,-82.7275752,-85.2547988,-83.9943156,-84.4694359,-84.352462,-84.333989,-84.5686483,-84.143039,-84.277902,-84.3350283,-156.017457,-157.7119219,-158.0063848,-159.3799149,-156.451364,-158.0881083,-157.870711,-116.7819023,-116.276686,-116.592784,-114.4656395,-112.468931,-87.7815541,-87.7418497,-87.6770447,-87.964888,-87.8618256,-88.0449252,-88.3387302,-88.1323182,-88.093412,-88.2058422,-88.0325566,-88.3400191,-87.8367543,-87.9332458,-87.9057161,-87.8214507,-87.3218679,-86.226227,-86.061793,-93.804976,-94.733002,-94.670999,-85.5728641,-76.8160858,-77.4075364,-76.444565,-76.730744,-76.793645,-76.5939428,-77.214124,-77.3903001,-76.8747015,-71.265264,-71.066458,-71.17497,-77.401371,-72.620485,-71.0695264,-85.542713,-85.76385,-83.2963467,-82.98077,-83.293322,-83.430471,-83.332026,-83.7594455,-83.117129,-82.9371897,-83.444799,-93.3502188,-93.3495534,-93.424382,-93.4358767,-93.039964,-93.2934839,-94.5815625,-94.3551426,-90.607339,-90.3408851,-90.506914,-114.29897,-114.037358,-111.070653,-112.0049737,-108.5727142,-96.10534,-119.8451288,-119.785095,-119.738792,-115.3318905,-115.209445,-115.1608236,-115.037166,-71.443126,-74.3766237,-74.5553081,-74.1563178,-74.8761132,-74.287661,-74.381266,-74.569445,-74.1705136,-74.038818,-74.2541309,-74.2873,-74.1366964,-106.530385,-106.66139,-106.614209,-73.130236,-73.420634,-73.050016,-73.2865925,-73.601117,-73.7398576,-74.0090742,-73.9375771,-74.025274,-73.7938571,-73.8612905,-74.168663,-73.8635717,-73.661561,-73.9318516,-77.8738996,-80.883958,-80.704742,-78.914527,-78.622315,-79.883838,-80.317952,-84.3032,-84.4510214,-81.4467262,-83.6241301,-82.976965,-81.8162777,-82.012682,-121.267616,-122.858378,-123.06635,-123.065814,-122.995309,-122.523747,-122.7564796,-122.9355,-122.764093,-122.571376,-122.841919,-123.3513746,-123.9174036,-75.2351214,-75.385931,-76.256924,-76.7996506,-80.107991,-79.9195722,-80.1671087,-82.311008,-78.915906,-80.0369654,-81.9906978,-89.7972209,-89.794989,-86.885891,-86.818149,-97.7456423,-98.597156,-98.277915,-95.5468109,-95.529263,-95.4389565,-97.4087829,-97.1121332,-97.1127486,-96.831701,-96.699179,-96.9648545,-106.410297,-98.474805,-96.910279,-96.4454985,-113.523381,-111.9793725,-111.9541263,-111.90294,-111.6798494,-111.8934445,-111.8229955,-111.895108,-111.889873,-73.173988,-76.496559,-76.199681,-77.587539,-77.561159,-78.85613,-78.157929,-77.0567423,-77.294447,-77.197301,-77.371784,-77.533198,-77.401854,-77.4430209,-77.5164269,-77.515701,-122.182086,-117.0442722,-119.235246,-117.332852,-117.411489,-120.499306,-120.280459,-122.604718,-122.760723,-122.916699,-122.373955,-122.469182,-122.680673,-123.1254206,-123.1254206,-122.308125,-122.191237,-122.338038,-122.4882889,-122.209275,-122.24834,-122.3304533,-122.344819,-122.1484548,-122.309915,-122.0528913,-122.3135201,-122.4591346,-122.6038876,-122.121185,-89.522751,-87.9216153],\"marker\":{\"autocolorscale\":false,\"cmin\":0,\"colorbar\":{\"title\":{\"text\":\"COSTCO STORE LOCATIONS\"}},\"colorscale\":[[0.0,\"rgb(247,251,255)\"],[0.125,\"rgb(222,235,247)\"],[0.25,\"rgb(198,219,239)\"],[0.375,\"rgb(158,202,225)\"],[0.5,\"rgb(107,174,214)\"],[0.625,\"rgb(66,146,198)\"],[0.75,\"rgb(33,113,181)\"],[0.875,\"rgb(8,81,156)\"],[1.0,\"rgb(8,48,107)\"]],\"line\":{\"color\":\"rgba(102, 102, 102)\",\"width\":1},\"opacity\":0.8,\"reversescale\":true,\"size\":8,\"symbol\":\"square\"},\"mode\":\"markers\",\"text\":[\"1205 N. Memorial Parkway\",\"3650 Galleria Circle\",\"8251 Eastchase Parkway\",\"5225 Commercial Boulevard\",\"330 West Dimond Blvd\",\"4125 DeBarr Road\",\"3911 Highway 69\",\"3901 West Costco Drive\",\"6255 East Grant Road\",\"17550 N. 79th Ave.\",\"2887 S Market St\",\"1445 West Elliot Road\",\"15255 North Hayden Road\",\"1415 North Arizona Avenue\",\"595 S Galleria Way\",\"1444 S Sossaman Rd\",\"2450 E Beardsley Rd\",\"19001 N. 27th Ave\",\"3801 N. 33rd Avenue\",\"1646 W. Montebello\",\"4502 East Oak Street\",\"10000 W. McDowell Road\",\"4570 E Cactus Rd\",\"2345 Fenton Pkwy\",\"1300 Dana Drive\",\"2100 Dr Martin Luther King Jr Way\",\"7981 East Stockton Boulevard\",\"1600 Expo Parkway\",\"2299 Bronze Star Drive\",\"11260 White Rock Road\",\"6750 Stanford Ranch Road\",\"1800 Cavitt Court\",\"7000 Auburn Blvd\",\"1006 West Wabash Avenue\",\"1900 Santa Rosa Avenue\",\"3801 Pelandale Ave.\",\"1445 R Street\",\"2440 Daniels St\",\"1616 East Hammer Lane\",\"1709 Automation Parkway\",\"5301 Almaden Expressway\",\"2201 Senter Road\",\"220 Sylvania Avenue\",\"1601 Coleman Avenue\",\"300 Vintage Way\",\"4801 Central Avenue\",\"198 Plaza Drive\",\"5101 Business Center Drive\",\"1900 Davis Street\",\"2800 Independence Drive\",\"22330 Hathaway Avenue\",\"43621 Pacific Commons Blvd\",\"3150 Fostoria Way\",\"2201 Verne Roberts Circle\",\"1001 Metro Center Boulevard\",\"450 10th Street\",\"150 Lawrence Station Road\",\"451 South Airport Boulevard\",\"1600 El Camino Real\",\"1000 North Rengstorff Avenue\",\"801 Tioga Avenue\",\"1339 North Davis Road\",\"4500 W Shaw\",\"380 West Ashlan Avenue\",\"1141 West Avenue L\",\"1335 South Bradley\",\"1540 Froom Ranch Way\",\"1405 W Cameron Ave\",\"7095 Market Place Drive\",\"2001 East Ventura Boulevard\",\"22633 Savi Ranch Parkway\",\"480 McKinley Street\",\"11000 Garden Grove Boulevard\",\"900 South Harbor Boulevard\",\"2655 El Camino Real\",\"2700 Park Ave\",\"17900 Newhope Street\",\"27972 Cabot Road\",\"33961 Doheny Park Road\",\"115 Technology West Drive\",\"12700 Day Street\",\"29315 Central Ave\",\"1099 East Hospitality Lane\",\"14555 Valley Center Drive\",\"2030 North Imperial Avenue\",\"72-800 Dinah Shore Drive\",\"12350 Carmel Mountain Road\",\"650 Gateway Center Drive\",\"1755 Hacienda Drive\",\"101 Town Center Parkway\",\"12155 Tech Center Drive\",\"951 Palomar Airport Road\",\"8125 Fletcher Parkway\",\"1130 Broadway\",\"895 East H Street\",\"2207 West Commonwealth Avenue\",\"520 N Lone Hill Ave\",\"9404 Central Avenue\",\"17550 Castleton St.\",\"11800 4th Street\",\"13111 Peyton Drive\",\"1220 West Foothill Boulevard\",\"1051 Burbank Blvd.\",\"6100 Sepulveda Boulevard\",\"18649 Via Princessa\",\"5700 Lindero Canyon Road\",\"8810 Tampa Avenue\",\"21300 Roscoe Boulevard\",\"2200 East Willow Street\",\"340 Lakewood Center Mall\",\"12324 Hoxie Avenue\",\"1345 North Montebello Boulevard\",\"101 N Beach Blvd\",\"2751 Sky Park Drive\",\"3560 West Century Blvd\",\"13463 Washington Boulevard\",\"14501 Hindry Avenue\",\"2901 Los Feliz Boulevard\",\"1051 Hume Way\",\"2955 North Tegner Road\",\"3250 W. Grant Line Road\",\"7251 Camino Arroyo\",\"5901 Redwood Drive\",\"28505 Hesperian Blvd\",\"2300 Middlefield Rd\",\"7100 N. Abby Street\",\"4900 Panama Lane\",\"3800 Rosedale Highway\",\"27220 Heather Ridge Road\",\"26610 Ynez Road\",\"16505 Sierra Lakes Parkway\",\"79795 Hwy 111\",\"4605 Morena Boulevard\",\"7803 Othello Ave\",\"13550 W Paxton St\",\"5401 Katella Ave\",\"12530 Prairie Ave\",\"6333 Telegraph Rd\",\"170 Cooley Mesa Rd\",\"5885 Barnes Road\",\"18414 Cottonwood Dr\",\"8686 Park Meadows Center Drive\",\"7900 West Quincy Avenue\",\"4000 River Point Parkway\",\"6400 West 92nd Avenue\",\"600 Marshall Road\",\"16375 N Washington St\",\"1471 South Havana\",\"5195 Wadsworth Blvd.\",\"5050 N Nevada Ave\",\"779 Connecticut Ave\",\"200 Federal Road\",\"3600 East Main Street\",\"1718 Boston Post Road\",\"75 Freshwater Blvd\",\"900 Center Boulevard\",\"17800 Congress Avenue\",\"6275 Naples Boulevard\",\"10088 Gulf Center Drive\",\"7171 Cypress Lake Drive\",\"10921 Causeway Blvd.\",\"1873 West Lantana Road\",\"11001 Southern Blvd - Ste 160\",\"3250 Northlake Boulevard\",\"1890 South University Drive\",\"13450 SW 120th St\",\"14585 Biscayne Boulevard\",\"8300 Park Boulevard\",\"1800 West Sample Road\",\"15915 Pines Blvd\",\"16580 NW 59th Avenue\",\"2101 Water Bridge Blvd\",\"3333 University Boulevard\",\"741 Orange Avenue\",\"4067 Lagniappe Way\",\"4901 Gate Parkway\",\"2655 Gulf to Bay Blvd.\",\"100 Cobb Parkway\",\"1550 Mall of Georgia Blvd\",\"2900 Cumberland Mall\",\"6350 Peachtree Dunwoody Rd N.E.\",\"1700 Mount Zion Road\",\"645 Barrett Parkway\",\"3980 Venture Drive\",\"2855 Jordan Ct\",\"500 Brookhaven Ave\",\"73-5600 Maiau Street\",\"333A Keahole Street\",\"94-1231 Ka Uka Blvd\",\"4300 Nuhou St\",\"540 Haleakala Highway\",\"4589 Kapolei Parkway\",\"525 Alakawa Street\",\"355 East Neider Avenue\",\"2051 S. Cole Road\",\"16700 N Marketplace Blvd\",\"731 Pole Line Road\",\"305 West Quinn Rd\",\"7311 North Melvina Ave\",\"7300 S. Cicero Ave\",\"2746 N. Clybourn Avenue\",\"1901 West 22nd Street\",\"9915 W 159th St\",\"1375 North Meacham Rd\",\"250 N. Randall Rd.\",\"505 W. Army Trail Road\",\"680 S. Rand Road\",\"1320 S. Route 59\",\"830 E Boughton Rd\",\"221 S. Randall Rd\",\"8400 W North Ave\",\"999 N. Elmhurst Road\",\"25901 Riverwoods Rd\",\"2900 Patriot Blvd\",\"1310 E. 79th Ave\",\"9010 Michigan Road\",\"6110 East 86th Street\",\"7205 Mills Civic Parkway\",\"9350 Marshall Drive\",\"12221 Blue Valley Parkway\",\"5020 Norton Healthcare Blvd\",\"2400 Five Lees Lane\",\"10 Monocacy Blvd.\",\"9919 Pulaski Highway\",\"7077 Arundel Mills Circle\",\"6675 Marie Curie Drive\",\"575 East Ordnance Road\",\"880 Russell Avenue\",\"10925 Baltimore Avenue (Route 1)\",\"16006 Crain Highway SE\",\"71 Second Avenue\",\"120 Stockwell Drive\",\"400 Commercial Circle\",\"11 Newbury Street (Route 1)\",\"119 Daggett Drive\",\"2 Mystic View Road\",\"5100 28th Street SE\",\"4901 Wilson Avenue\",\"400 Brown Road\",\"45460 Market Street\",\"2343 South Telegraph Rd\",\"20000 Haggerty Rd\",\"13700 Middlebelt Road\",\"6700 Whitmore Lake Rd\",\"30550 Stephenson Highway\",\"27118 Gratiot Avenue\",\"3000 Commerce Crossing\",\"12547 Riverdale Blvd.\",\"5801 16th Street West\",\"11330 Fountains Dr N\",\"12011 Technology Drive\",\"1431 Beam Ave\",\"14050 Burnhaven Dr\",\"241 East Linwood Blvd\",\"19040 E. Valley View Pkwy\",\"200 Costco Way\",\"4200 Rusty Road\",\"301 Highlands Blvd Drive\",\"2330 US Highway 93 N\",\"3220 Northern Pacific Avenue\",\"2505 Catron Street\",\"2195 E Custer Ave\",\"2290 King Avenue West\",\"12300 West Dodge Rd\",\"700 Old Clear Creek Road\",\"2200 Harvard Way\",\"4810 Galleria Parkway\",\"801 S. Pavilion Center Drive\",\"6555 N Decatur Blvd\",\"222 S Martin Luther King Blvd\",\"791 Marks Street\",\"311 Daniel Webster Highway\",\"2210 Route 27 North\",\"325 Promenade Blvd.\",\"465 Route 70\",\"100 Centerton Road\",\"245 Stafford Park Blvd\",\"156 SR-10 West\",\"315 Route 15\",\"2835 Route 35 South\",\"80 South River Street\",\"77 Willowbrook Boulevard\",\"1055 Hudson St\",\"20 Bridewell Place\",\"500 Eubank Blvd SE\",\"9955 Coors Bypass NW\",\"1420 Renaissance Boulevard NE\",\"3000 Middle Country Road\",\"625 Broadhollow Road\",\"125 Beacon Drive\",\"10 Garret Place\",\"1250 Old Country Road\",\"605 Rockaway Turnpike\",\"976 3rd Avenue\",\"32-50 Vernon Boulevard\",\"50 Overlook Boulevard\",\"1 Industrial Lane\",\"20 Stew Leonard Drive\",\"2975 Richmond Avenue\",\"61-35 Junction Boulevard\",\"1 Westchester Ave.\",\"517 E 117th St\",\"5351 Gingerwood Dr\",\"500 Tyvola Road\",\"2125 Matthews Township Pkwy\",\"1510 North Pointe Drive\",\"2838 Wake Forest Rd\",\"4201 West Wendover Ave\",\"1085 Hanes Mall Blvd.\",\"9691 Waterstone Blvd\",\"1100 East Kemper Road\",\"1409 Golden Gate Blvd.\",\"3405 West Central Ave\",\"1500 Gemini Place\",\"16690 Royalton Rd\",\"35804 Detroit Road\",\"2500 Northeast Highway 20\",\"3639 Crater Lake Highway\",\"2828 Chad Drive\",\"3130 Killdeer Ave\",\"1010 Hawthorne Avenue SE\",\"4849 NE 138th Ave\",\"7855 SW Dartmouth Ave\",\"1255 NE 48th Ave\",\"25900 SW Heather Place\",\"13130 SE 84th Avenue\",\"15901 SW Jenkins\",\"4141 NE Stephens\",\"1804 SE Ensign Lane\",\"740 Upper State Road\",\"201 Allendale Road\",\"1875 Hempstead Road\",\"5125 Jonestown Road Suite 221\",\"1050 Cranberry Square Drive\",\"501 W Waterfront Dr\",\"202 Costco Drive\",\"1021 Woodruff Rd\",\"1021 Oak Forest Lane\",\"3050 Ashley Town Center\",\"211 W Blackstock Rd\",\"3775 Hacks Cross Road\",\"2431 North Germantown Parkway\",\"6670 Charlotte Pike\",\"98 Seaboard Lane\",\"10401 Research Blvd\",\"5611 Utsa Blvd\",\"15330 IH-35 North\",\"12405 N. Gessner Rd.\",\"1150 Bunker Hill Road\",\"3836 Richmond Ave\",\"5300 Overton Ridge Blvd\",\"2601 E. State Hwy 114\",\"600 West Arbrook Blvd\",\"1701 Dallas Pkwy\",\"3800 N. Central Expressway\",\"851 S. State Hwy 121\",\"6101 Gateway West Blvd\",\"1201 N. Loop 1604 East\",\"250 West Highway 67\",\"1225 State Hwy 276\",\"835 North 3050 East\",\"3656 Wall Avenue\",\"3747 South 2700 West\",\"1818 South 300 West\",\"648 East 800 South\",\"11100 S. Auto Mall Drive\",\"198 North 1200 East\",\"573 West 100 North\",\"5201 South Intermountain Drive\",\"218 Lower Mountain View Drive\",\"12121 Jefferson Avenue\",\"850 Glenrock Road\",\"3700 Price Club Boulevard\",\"9650 West Broad Street\",\"1830 Reservoir Street\",\"251 Front Royal Pike\",\"1200 South Fern Street\",\"2700 Potomac Mills Circle - Ste 200\",\"7373 Boston Boulevard\",\"4725 West Ox Road\",\"1300 Edwards Ferry Road\",\"21398 Price/Cascades Plaza\",\"14390 Chantilly Crossing Lane\",\"10701 Sudley Manor Drive\",\"3102 Plank Road #600\",\"8629 120th Avenue NE\",\"301 Fifth Street\",\"8505A W. Gage Blvd\",\"5601 East Sprague Avenue\",\"7619 North Division Street\",\"2310 Longfibre Rd\",\"375 Highline Drive South\",\"6720 NE 84th Street\",\"1470 Marvin Rd NE\",\"5500 Littlerock Road\",\"3900 20th St. East\",\"2219 South 37th Street\",\"10000 Mickelberry Rd. NW\",\"955 West Washington St\",\"955 West Washington St\",\"1201 39th SW\",\"16616 Twin Lakes Ave\",\"1725 S. Burlington Blvd\",\"4299 Guide Meridian Street\",\"10200 19th Avenue SE\",\"400 Costco Drive Suite 150\",\"4401 4th Avenue South\",\"1175 North 205th Street\",\"24008 Snohomish-Woodinville Rd SE\",\"19105 Highway 99\",\"1801 10th Avenue NW\",\"35100 Enchanted Parkway South\",\"19610 SE 1st St\",\"10990 Harbor Hill Dr\",\"27520 Covington Way SE\",\"2150 Deming Way\",\"950 Port Washington Rd\"],\"type\":\"scattergeo\"}],                        {\"template\":{\"data\":{\"bar\":[{\"error_x\":{\"color\":\"#2a3f5f\"},\"error_y\":{\"color\":\"#2a3f5f\"},\"marker\":{\"line\":{\"color\":\"#E5ECF6\",\"width\":0.5},\"pattern\":{\"fillmode\":\"overlay\",\"size\":10,\"solidity\":0.2}},\"type\":\"bar\"}],\"barpolar\":[{\"marker\":{\"line\":{\"color\":\"#E5ECF6\",\"width\":0.5},\"pattern\":{\"fillmode\":\"overlay\",\"size\":10,\"solidity\":0.2}},\"type\":\"barpolar\"}],\"carpet\":[{\"aaxis\":{\"endlinecolor\":\"#2a3f5f\",\"gridcolor\":\"white\",\"linecolor\":\"white\",\"minorgridcolor\":\"white\",\"startlinecolor\":\"#2a3f5f\"},\"baxis\":{\"endlinecolor\":\"#2a3f5f\",\"gridcolor\":\"white\",\"linecolor\":\"white\",\"minorgridcolor\":\"white\",\"startlinecolor\":\"#2a3f5f\"},\"type\":\"carpet\"}],\"choropleth\":[{\"colorbar\":{\"outlinewidth\":0,\"ticks\":\"\"},\"type\":\"choropleth\"}],\"contour\":[{\"colorbar\":{\"outlinewidth\":0,\"ticks\":\"\"},\"colorscale\":[[0.0,\"#0d0887\"],[0.1111111111111111,\"#46039f\"],[0.2222222222222222,\"#7201a8\"],[0.3333333333333333,\"#9c179e\"],[0.4444444444444444,\"#bd3786\"],[0.5555555555555556,\"#d8576b\"],[0.6666666666666666,\"#ed7953\"],[0.7777777777777778,\"#fb9f3a\"],[0.8888888888888888,\"#fdca26\"],[1.0,\"#f0f921\"]],\"type\":\"contour\"}],\"contourcarpet\":[{\"colorbar\":{\"outlinewidth\":0,\"ticks\":\"\"},\"type\":\"contourcarpet\"}],\"heatmap\":[{\"colorbar\":{\"outlinewidth\":0,\"ticks\":\"\"},\"colorscale\":[[0.0,\"#0d0887\"],[0.1111111111111111,\"#46039f\"],[0.2222222222222222,\"#7201a8\"],[0.3333333333333333,\"#9c179e\"],[0.4444444444444444,\"#bd3786\"],[0.5555555555555556,\"#d8576b\"],[0.6666666666666666,\"#ed7953\"],[0.7777777777777778,\"#fb9f3a\"],[0.8888888888888888,\"#fdca26\"],[1.0,\"#f0f921\"]],\"type\":\"heatmap\"}],\"heatmapgl\":[{\"colorbar\":{\"outlinewidth\":0,\"ticks\":\"\"},\"colorscale\":[[0.0,\"#0d0887\"],[0.1111111111111111,\"#46039f\"],[0.2222222222222222,\"#7201a8\"],[0.3333333333333333,\"#9c179e\"],[0.4444444444444444,\"#bd3786\"],[0.5555555555555556,\"#d8576b\"],[0.6666666666666666,\"#ed7953\"],[0.7777777777777778,\"#fb9f3a\"],[0.8888888888888888,\"#fdca26\"],[1.0,\"#f0f921\"]],\"type\":\"heatmapgl\"}],\"histogram\":[{\"marker\":{\"pattern\":{\"fillmode\":\"overlay\",\"size\":10,\"solidity\":0.2}},\"type\":\"histogram\"}],\"histogram2d\":[{\"colorbar\":{\"outlinewidth\":0,\"ticks\":\"\"},\"colorscale\":[[0.0,\"#0d0887\"],[0.1111111111111111,\"#46039f\"],[0.2222222222222222,\"#7201a8\"],[0.3333333333333333,\"#9c179e\"],[0.4444444444444444,\"#bd3786\"],[0.5555555555555556,\"#d8576b\"],[0.6666666666666666,\"#ed7953\"],[0.7777777777777778,\"#fb9f3a\"],[0.8888888888888888,\"#fdca26\"],[1.0,\"#f0f921\"]],\"type\":\"histogram2d\"}],\"histogram2dcontour\":[{\"colorbar\":{\"outlinewidth\":0,\"ticks\":\"\"},\"colorscale\":[[0.0,\"#0d0887\"],[0.1111111111111111,\"#46039f\"],[0.2222222222222222,\"#7201a8\"],[0.3333333333333333,\"#9c179e\"],[0.4444444444444444,\"#bd3786\"],[0.5555555555555556,\"#d8576b\"],[0.6666666666666666,\"#ed7953\"],[0.7777777777777778,\"#fb9f3a\"],[0.8888888888888888,\"#fdca26\"],[1.0,\"#f0f921\"]],\"type\":\"histogram2dcontour\"}],\"mesh3d\":[{\"colorbar\":{\"outlinewidth\":0,\"ticks\":\"\"},\"type\":\"mesh3d\"}],\"parcoords\":[{\"line\":{\"colorbar\":{\"outlinewidth\":0,\"ticks\":\"\"}},\"type\":\"parcoords\"}],\"pie\":[{\"automargin\":true,\"type\":\"pie\"}],\"scatter\":[{\"marker\":{\"colorbar\":{\"outlinewidth\":0,\"ticks\":\"\"}},\"type\":\"scatter\"}],\"scatter3d\":[{\"line\":{\"colorbar\":{\"outlinewidth\":0,\"ticks\":\"\"}},\"marker\":{\"colorbar\":{\"outlinewidth\":0,\"ticks\":\"\"}},\"type\":\"scatter3d\"}],\"scattercarpet\":[{\"marker\":{\"colorbar\":{\"outlinewidth\":0,\"ticks\":\"\"}},\"type\":\"scattercarpet\"}],\"scattergeo\":[{\"marker\":{\"colorbar\":{\"outlinewidth\":0,\"ticks\":\"\"}},\"type\":\"scattergeo\"}],\"scattergl\":[{\"marker\":{\"colorbar\":{\"outlinewidth\":0,\"ticks\":\"\"}},\"type\":\"scattergl\"}],\"scattermapbox\":[{\"marker\":{\"colorbar\":{\"outlinewidth\":0,\"ticks\":\"\"}},\"type\":\"scattermapbox\"}],\"scatterpolar\":[{\"marker\":{\"colorbar\":{\"outlinewidth\":0,\"ticks\":\"\"}},\"type\":\"scatterpolar\"}],\"scatterpolargl\":[{\"marker\":{\"colorbar\":{\"outlinewidth\":0,\"ticks\":\"\"}},\"type\":\"scatterpolargl\"}],\"scatterternary\":[{\"marker\":{\"colorbar\":{\"outlinewidth\":0,\"ticks\":\"\"}},\"type\":\"scatterternary\"}],\"surface\":[{\"colorbar\":{\"outlinewidth\":0,\"ticks\":\"\"},\"colorscale\":[[0.0,\"#0d0887\"],[0.1111111111111111,\"#46039f\"],[0.2222222222222222,\"#7201a8\"],[0.3333333333333333,\"#9c179e\"],[0.4444444444444444,\"#bd3786\"],[0.5555555555555556,\"#d8576b\"],[0.6666666666666666,\"#ed7953\"],[0.7777777777777778,\"#fb9f3a\"],[0.8888888888888888,\"#fdca26\"],[1.0,\"#f0f921\"]],\"type\":\"surface\"}],\"table\":[{\"cells\":{\"fill\":{\"color\":\"#EBF0F8\"},\"line\":{\"color\":\"white\"}},\"header\":{\"fill\":{\"color\":\"#C8D4E3\"},\"line\":{\"color\":\"white\"}},\"type\":\"table\"}]},\"layout\":{\"annotationdefaults\":{\"arrowcolor\":\"#2a3f5f\",\"arrowhead\":0,\"arrowwidth\":1},\"autotypenumbers\":\"strict\",\"coloraxis\":{\"colorbar\":{\"outlinewidth\":0,\"ticks\":\"\"}},\"colorscale\":{\"diverging\":[[0,\"#8e0152\"],[0.1,\"#c51b7d\"],[0.2,\"#de77ae\"],[0.3,\"#f1b6da\"],[0.4,\"#fde0ef\"],[0.5,\"#f7f7f7\"],[0.6,\"#e6f5d0\"],[0.7,\"#b8e186\"],[0.8,\"#7fbc41\"],[0.9,\"#4d9221\"],[1,\"#276419\"]],\"sequential\":[[0.0,\"#0d0887\"],[0.1111111111111111,\"#46039f\"],[0.2222222222222222,\"#7201a8\"],[0.3333333333333333,\"#9c179e\"],[0.4444444444444444,\"#bd3786\"],[0.5555555555555556,\"#d8576b\"],[0.6666666666666666,\"#ed7953\"],[0.7777777777777778,\"#fb9f3a\"],[0.8888888888888888,\"#fdca26\"],[1.0,\"#f0f921\"]],\"sequentialminus\":[[0.0,\"#0d0887\"],[0.1111111111111111,\"#46039f\"],[0.2222222222222222,\"#7201a8\"],[0.3333333333333333,\"#9c179e\"],[0.4444444444444444,\"#bd3786\"],[0.5555555555555556,\"#d8576b\"],[0.6666666666666666,\"#ed7953\"],[0.7777777777777778,\"#fb9f3a\"],[0.8888888888888888,\"#fdca26\"],[1.0,\"#f0f921\"]]},\"colorway\":[\"#636efa\",\"#EF553B\",\"#00cc96\",\"#ab63fa\",\"#FFA15A\",\"#19d3f3\",\"#FF6692\",\"#B6E880\",\"#FF97FF\",\"#FECB52\"],\"font\":{\"color\":\"#2a3f5f\"},\"geo\":{\"bgcolor\":\"white\",\"lakecolor\":\"white\",\"landcolor\":\"#E5ECF6\",\"showlakes\":true,\"showland\":true,\"subunitcolor\":\"white\"},\"hoverlabel\":{\"align\":\"left\"},\"hovermode\":\"closest\",\"mapbox\":{\"style\":\"light\"},\"paper_bgcolor\":\"white\",\"plot_bgcolor\":\"#E5ECF6\",\"polar\":{\"angularaxis\":{\"gridcolor\":\"white\",\"linecolor\":\"white\",\"ticks\":\"\"},\"bgcolor\":\"#E5ECF6\",\"radialaxis\":{\"gridcolor\":\"white\",\"linecolor\":\"white\",\"ticks\":\"\"}},\"scene\":{\"xaxis\":{\"backgroundcolor\":\"#E5ECF6\",\"gridcolor\":\"white\",\"gridwidth\":2,\"linecolor\":\"white\",\"showbackground\":true,\"ticks\":\"\",\"zerolinecolor\":\"white\"},\"yaxis\":{\"backgroundcolor\":\"#E5ECF6\",\"gridcolor\":\"white\",\"gridwidth\":2,\"linecolor\":\"white\",\"showbackground\":true,\"ticks\":\"\",\"zerolinecolor\":\"white\"},\"zaxis\":{\"backgroundcolor\":\"#E5ECF6\",\"gridcolor\":\"white\",\"gridwidth\":2,\"linecolor\":\"white\",\"showbackground\":true,\"ticks\":\"\",\"zerolinecolor\":\"white\"}},\"shapedefaults\":{\"line\":{\"color\":\"#2a3f5f\"}},\"ternary\":{\"aaxis\":{\"gridcolor\":\"white\",\"linecolor\":\"white\",\"ticks\":\"\"},\"baxis\":{\"gridcolor\":\"white\",\"linecolor\":\"white\",\"ticks\":\"\"},\"bgcolor\":\"#E5ECF6\",\"caxis\":{\"gridcolor\":\"white\",\"linecolor\":\"white\",\"ticks\":\"\"}},\"title\":{\"x\":0.05},\"xaxis\":{\"automargin\":true,\"gridcolor\":\"white\",\"linecolor\":\"white\",\"ticks\":\"\",\"title\":{\"standoff\":15},\"zerolinecolor\":\"white\",\"zerolinewidth\":2},\"yaxis\":{\"automargin\":true,\"gridcolor\":\"white\",\"linecolor\":\"white\",\"ticks\":\"\",\"title\":{\"standoff\":15},\"zerolinecolor\":\"white\",\"zerolinewidth\":2}}},\"geo\":{\"projection\":{\"type\":\"albers usa\"},\"scope\":\"usa\",\"showland\":true,\"landcolor\":\"rgb(250, 250, 250)\",\"subunitcolor\":\"rgb(217, 217, 217)\",\"countrycolor\":\"rgb(217, 217, 217)\",\"countrywidth\":0.5,\"subunitwidth\":0.5},\"title\":{\"text\":\"COSTCO STORE LOCATIONS<br>(Hover Location Address)\"}},                        {\"responsive\": true}                    ).then(function(){\n",
       "                            \n",
       "var gd = document.getElementById('ea37106e-b1e5-4c4b-bc68-b8bfdc832bc3');\n",
       "var x = new MutationObserver(function (mutations, observer) {{\n",
       "        var display = window.getComputedStyle(gd).display;\n",
       "        if (!display || display === 'none') {{\n",
       "            console.log([gd, 'removed!']);\n",
       "            Plotly.purge(gd);\n",
       "            observer.disconnect();\n",
       "        }}\n",
       "}});\n",
       "\n",
       "// Listen for the removal of the full notebook cells\n",
       "var notebookContainer = gd.closest('#notebook-container');\n",
       "if (notebookContainer) {{\n",
       "    x.observe(notebookContainer, {childList: true});\n",
       "}}\n",
       "\n",
       "// Listen for the clearing of the current output cell\n",
       "var outputEl = gd.closest('.output');\n",
       "if (outputEl) {{\n",
       "    x.observe(outputEl, {childList: true});\n",
       "}}\n",
       "\n",
       "                        })                };                });            </script>        </div>"
      ]
     },
     "metadata": {},
     "output_type": "display_data"
    }
   ],
   "source": [
    "fig = go.Figure(data=go.Scattergeo(\n",
    "        locationmode = 'USA-states',\n",
    "        lon = costcos_df['Longitude'],\n",
    "        lat = costcos_df['Latitude'],\n",
    "        text = costcos_df['Address'],\n",
    "        mode = 'markers',\n",
    "        marker = dict(\n",
    "            size = 8,\n",
    "            opacity = 0.8,\n",
    "            reversescale = True,\n",
    "            autocolorscale = False,\n",
    "            symbol = 'square',\n",
    "            line = dict(\n",
    "                width=1,\n",
    "                color='rgba(102, 102, 102)'\n",
    "            ),\n",
    "            colorscale = 'Blues',\n",
    "            cmin = 0,\n",
    "            #color = df['cnt'],\n",
    "            #cmax = df['cnt'].max(),\n",
    "            colorbar_title=\"COSTCO STORE LOCATIONS\"\n",
    "        )))\n",
    "\n",
    "fig.update_layout(\n",
    "        title = 'COSTCO STORE LOCATIONS<br>(Hover Location Address)',\n",
    "        geo = dict(\n",
    "            scope='usa',\n",
    "            projection_type='albers usa',\n",
    "            showland = True,\n",
    "            landcolor = \"rgb(250, 250, 250)\",\n",
    "            subunitcolor = \"rgb(217, 217, 217)\",\n",
    "            countrycolor = \"rgb(217, 217, 217)\",\n",
    "            countrywidth = 0.5,\n",
    "            subunitwidth = 0.5\n",
    "        ),\n",
    "    )\n",
    "fig.show()"
   ]
  },
  {
   "cell_type": "code",
   "execution_count": null,
   "id": "b52b76e5",
   "metadata": {},
   "outputs": [],
   "source": []
  }
 ],
 "metadata": {
  "kernelspec": {
   "display_name": "Python 3",
   "language": "python",
   "name": "python3"
  },
  "language_info": {
   "codemirror_mode": {
    "name": "ipython",
    "version": 3
   },
   "file_extension": ".py",
   "mimetype": "text/x-python",
   "name": "python",
   "nbconvert_exporter": "python",
   "pygments_lexer": "ipython3",
   "version": "3.8.8"
  }
 },
 "nbformat": 4,
 "nbformat_minor": 5
}
