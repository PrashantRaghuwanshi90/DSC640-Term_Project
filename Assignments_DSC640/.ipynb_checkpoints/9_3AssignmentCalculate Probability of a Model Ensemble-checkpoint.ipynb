{
 "cells": [
  {
   "cell_type": "code",
   "execution_count": 11,
   "id": "94b45921",
   "metadata": {},
   "outputs": [
    {
     "data": {
      "image/png": "[encoded data removed]",
      "text/plain": [
       "<Figure size 432x288 with 1 Axes>"
      ]
     },
     "metadata": {
      "needs_background": "light"
     },
     "output_type": "display_data"
    }
   ],
   "source": [
    "from scipy.stats import binom\n",
    "import matplotlib.pyplot as plt\n",
    "import numpy as np\n"
   ]
  },
  {
   "cell_type": "code",
   "execution_count": 6,
   "id": "c98de9ca",
   "metadata": {},
   "outputs": [],
   "source": [
    "[ n, p ] = [11, 0.3]\n",
    "rv = binom(n, p)"
   ]
  },
  {
   "cell_type": "code",
   "execution_count": 9,
   "id": "a9822633",
   "metadata": {},
   "outputs": [],
   "source": [
    "mean, var, skew, kurt = binom.stats(n, p, moments='mvsk')"
   ]
  },
  {
   "cell_type": "code",
   "execution_count": 12,
   "id": "f1c15baa",
   "metadata": {},
   "outputs": [
    {
     "data": {
      "text/plain": [
       "<matplotlib.collections.LineCollection at 0x245db709070>"
      ]
     },
     "execution_count": 12,
     "metadata": {},
     "output_type": "execute_result"
    },
    {
     "data": {
      "image/png": "[encoded data removed]",
      "text/plain": [
       "<Figure size 432x288 with 1 Axes>"
      ]
     },
     "metadata": {
      "needs_background": "light"
     },
     "output_type": "display_data"
    }
   ],
   "source": [
    "fig, ax = plt.subplots(1, 1)\n",
    "x = np.arange(binom.ppf(0.01, n, p),\n",
    "               binom.ppf(0.99, n, p))\n",
    "ax.plot(x, binom.pmf(x, n, p), 'bo', ms=8, label='binom pmf')\n",
    "ax.vlines(x, 0, binom.pmf(x, n, p), colors='b', lw=5, alpha=0.5)"
   ]
  },
  {
   "cell_type": "code",
   "execution_count": 18,
   "id": "94d16a36",
   "metadata": {},
   "outputs": [
    {
     "data": {
      "image/png": "[encoded data removed]",
      "text/plain": [
       "<Figure size 432x288 with 1 Axes>"
      ]
     },
     "metadata": {
      "needs_background": "light"
     },
     "output_type": "display_data"
    }
   ],
   "source": [
    "fig, ax = plt.subplots(1, 1)\n",
    "rv = binom(n, p)\n",
    "ax.vlines(x, 0, rv.pmf(x), colors='k', linestyles='-', lw=1, label='frozen pmf')\n",
    "ax.legend(loc='best', frameon=False)\n",
    "plt.show()"
   ]
  },
  {
   "cell_type": "code",
   "execution_count": 15,
   "id": "6fd1dae9",
   "metadata": {},
   "outputs": [
    {
     "data": {
      "text/plain": [
       "True"
      ]
     },
     "execution_count": 15,
     "metadata": {},
     "output_type": "execute_result"
    }
   ],
   "source": [
    "prob = binom.cdf(x, n, p)\n",
    "np.allclose(x, binom.ppf(prob, n, p))"
   ]
  },
  {
   "cell_type": "code",
   "execution_count": 16,
   "id": "d75c6b2f",
   "metadata": {},
   "outputs": [],
   "source": [
    "r = binom.rvs(n, p, size=1000)"
   ]
  },
  {
   "cell_type": "code",
   "execution_count": 22,
   "id": "7366e4d9",
   "metadata": {},
   "outputs": [
    {
     "data": {
      "text/plain": [
       "1.5198684153570663"
      ]
     },
     "execution_count": 22,
     "metadata": {},
     "output_type": "execute_result"
    }
   ],
   "source": [
    "binom.std(n, p, loc=0)"
   ]
  },
  {
   "cell_type": "code",
   "execution_count": 25,
   "id": "20f79553",
   "metadata": {},
   "outputs": [
    {
     "data": {
      "text/plain": [
       "array([0.01977327, 0.09321683, 0.19975035, 0.25682188, 0.22013304,\n",
       "       0.13207983, 0.05660564])"
      ]
     },
     "execution_count": 25,
     "metadata": {},
     "output_type": "execute_result"
    }
   ],
   "source": [
    "binom.pmf(x, n, p, loc=0)"
   ]
  },
  {
   "cell_type": "code",
   "execution_count": 26,
   "id": "4c64fde4",
   "metadata": {},
   "outputs": [
    {
     "data": {
      "text/plain": [
       "array([0.00060712, 0.00641639, 0.03082382, 0.08884512, 0.170722  ,\n",
       "       0.22963783, 0.22063242])"
      ]
     },
     "execution_count": 26,
     "metadata": {},
     "output_type": "execute_result"
    }
   ],
   "source": [
    "binom.pmf(x, 11, 0.49, loc=0)"
   ]
  },
  {
   "cell_type": "code",
   "execution_count": 27,
   "id": "040bb2d2",
   "metadata": {},
   "outputs": [
    {
     "data": {
      "text/plain": [
       "array([7.22726032e-07, 1.45820605e-05, 1.40102150e-04, 8.52517006e-04,\n",
       "       3.68588235e-03, 1.20405490e-02, 3.08489883e-02])"
      ]
     },
     "execution_count": 27,
     "metadata": {},
     "output_type": "execute_result"
    }
   ],
   "source": [
    "binom.pmf(x, 21, 0.49, loc=0)"
   ]
  },
  {
   "cell_type": "code",
   "execution_count": 20,
   "id": "4d431dbd",
   "metadata": {},
   "outputs": [
    {
     "ename": "NameError",
     "evalue": "name 'pmf' is not defined",
     "output_type": "error",
     "traceback": [
      "\u001b[1;31m---------------------------------------------------------------------------\u001b[0m",
      "\u001b[1;31mNameError\u001b[0m                                 Traceback (most recent call last)",
      "\u001b[1;32m<ipython-input-20-223be87064ae>\u001b[0m in \u001b[0;36m<module>\u001b[1;34m\u001b[0m\n\u001b[1;32m----> 1\u001b[1;33m \u001b[0mpmf\u001b[0m\u001b[1;33m(\u001b[0m\u001b[0mx\u001b[0m\u001b[1;33m,\u001b[0m \u001b[0mn\u001b[0m\u001b[1;33m,\u001b[0m \u001b[0mp\u001b[0m\u001b[1;33m,\u001b[0m \u001b[0mloc\u001b[0m\u001b[1;33m=\u001b[0m\u001b[1;36m0\u001b[0m\u001b[1;33m)\u001b[0m\u001b[1;33m\u001b[0m\u001b[1;33m\u001b[0m\u001b[0m\n\u001b[0m",
      "\u001b[1;31mNameError\u001b[0m: name 'pmf' is not defined"
     ]
    }
   ],
   "source": [
    "pmf(x, n, p, loc=0)"
   ]
  },
  {
   "cell_type": "code",
   "execution_count": null,
   "id": "785106d3",
   "metadata": {},
   "outputs": [],
   "source": []
  }
 ],
 "metadata": {
  "kernelspec": {
   "display_name": "Python 3",
   "language": "python",
   "name": "python3"
  },
  "language_info": {
   "codemirror_mode": {
    "name": "ipython",
    "version": 3
   },
   "file_extension": ".py",
   "mimetype": "text/x-python",
   "name": "python",
   "nbconvert_exporter": "python",
   "pygments_lexer": "ipython3",
   "version": "3.8.8"
  }
 },
 "nbformat": 4,
 "nbformat_minor": 5
}
